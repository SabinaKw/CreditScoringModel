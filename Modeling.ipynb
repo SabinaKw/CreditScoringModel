{
 "cells": [
  {
   "cell_type": "markdown",
   "metadata": {},
   "source": [
    "# Modeling"
   ]
  },
  {
   "cell_type": "markdown",
   "metadata": {},
   "source": [
    "## 1. Libraries and packages"
   ]
  },
  {
   "cell_type": "code",
   "execution_count": 1,
   "metadata": {},
   "outputs": [],
   "source": [
    "import numpy as np\n",
    "import pandas as pd\n",
    "import matplotlib.pyplot as plt\n",
    "import seaborn as sns"
   ]
  },
  {
   "cell_type": "markdown",
   "metadata": {},
   "source": [
    "## 2. Data import"
   ]
  },
  {
   "cell_type": "code",
   "execution_count": 122,
   "metadata": {},
   "outputs": [],
   "source": [
    "X = np.load('Data/X.npy')\n",
    "y = np.load('Data/y.npy')"
   ]
  },
  {
   "cell_type": "markdown",
   "metadata": {},
   "source": [
    "## 3. Spliting dataset into trainining and testing dataset"
   ]
  },
  {
   "cell_type": "code",
   "execution_count": 123,
   "metadata": {},
   "outputs": [],
   "source": [
    "from sklearn.model_selection import train_test_split\n",
    "seed = 300\n",
    "\n",
    "X_train, X_test, y_train, y_test = train_test_split(X, y, test_size = 0.3, random_state = seed)"
   ]
  },
  {
   "cell_type": "code",
   "execution_count": 124,
   "metadata": {},
   "outputs": [
    {
     "name": "stdout",
     "output_type": "stream",
     "text": [
      "(700, 71) (300, 71)\n"
     ]
    }
   ],
   "source": [
    "print(X_train.shape, X_test.shape)"
   ]
  },
  {
   "cell_type": "markdown",
   "metadata": {},
   "source": [
    "## 4. Building predictive models"
   ]
  },
  {
   "cell_type": "markdown",
   "metadata": {},
   "source": [
    "### 4.1. Baseline models"
   ]
  },
  {
   "cell_type": "markdown",
   "metadata": {},
   "source": [
    "In the beginning we will verify the scores in baseline models with default parameters and no cost matrix."
   ]
  },
  {
   "cell_type": "code",
   "execution_count": 5,
   "metadata": {},
   "outputs": [],
   "source": [
    "from sklearn.metrics import roc_curve, roc_auc_score, f1_score, accuracy_score, classification_report\n",
    "from sklearn.metrics import precision_score, recall_score, roc_auc_score, confusion_matrix"
   ]
  },
  {
   "cell_type": "code",
   "execution_count": 6,
   "metadata": {},
   "outputs": [],
   "source": [
    "from sklearn.linear_model import LogisticRegression\n",
    "from sklearn.ensemble import RandomForestClassifier, VotingClassifier, BaggingClassifier, AdaBoostClassifier, GradientBoostingClassifier\n",
    "from sklearn.tree import DecisionTreeClassifier\n",
    "from sklearn.svm import SVC\n",
    "from sklearn.naive_bayes import MultinomialNB"
   ]
  },
  {
   "cell_type": "code",
   "execution_count": 7,
   "metadata": {},
   "outputs": [],
   "source": [
    "Accuracy_list = []\n",
    "Precision_list = []\n",
    "Recall_list = []\n",
    "F1_score_list = []\n",
    "AUC_list = []\n",
    "Gini_list = []\n",
    "Algorithm_name_list = []\n",
    "\n",
    "\n",
    "def fit_classifier(algorithm_list, X_train, X_test, y_train, y_test):\n",
    "    for algorithm in algorithm_list.values():\n",
    "            \n",
    "        algorithm.fit(X_train, y_train)\n",
    "        y_pred = algorithm.predict(X_test)\n",
    "\n",
    "        Accuracy = accuracy_score(y_test, y_pred)\n",
    "        Precision = precision_score(y_test, y_pred)\n",
    "        Recall = recall_score(y_test, y_pred)\n",
    "        F1_score= f1_score(y_test, y_pred)\n",
    "        AUC = roc_auc_score(y_test, y_pred)\n",
    "        Gini = (2 * (roc_auc_score(y_test, y_pred))) - 1\n",
    "        \n",
    "        Accuracy_list.append(Accuracy)\n",
    "        Precision_list.append(Precision)\n",
    "        Recall_list.append(Recall)\n",
    "        F1_score_list.append(F1_score)\n",
    "        AUC_list.append(AUC)\n",
    "        Gini_list.append(Gini)\n",
    "        \n",
    "        Algorithm_name = list(algorithm_list.keys())[list(algorithm_list.values()).index(algorithm)]\n",
    "        Algorithm_name_list.append(Algorithm_name)\n",
    "\n",
    " \n",
    "    d = {'Method': Algorithm_name_list,\n",
    "         'Accuracy': Accuracy_list,\n",
    "         'Precision': Precision_list, \n",
    "         'Recall': Recall_list, \n",
    "         'F1': F1_score_list,\n",
    "         'AUC': AUC_list,\n",
    "         'Gini': Gini_list\n",
    "         }\n",
    "    df = pd.DataFrame(data=d)\n",
    "\n",
    "    return df"
   ]
  },
  {
   "cell_type": "code",
   "execution_count": 8,
   "metadata": {},
   "outputs": [],
   "source": [
    "algorithm_list ={'Logistic Regression': LogisticRegression(), \n",
    "                  'Random Forest': RandomForestClassifier(), \n",
    "                  'Decision Tree': DecisionTreeClassifier(),\n",
    "                  'SVM': SVC(probability = True),\n",
    "                 'Bagging Classifier': BaggingClassifier(),\n",
    "                 'AdaBoost': AdaBoostClassifier(),\n",
    "                 'Gradient Boosting': GradientBoostingClassifier()}"
   ]
  },
  {
   "cell_type": "code",
   "execution_count": 9,
   "metadata": {},
   "outputs": [
    {
     "data": {
      "text/html": [
       "<div>\n",
       "<style scoped>\n",
       "    .dataframe tbody tr th:only-of-type {\n",
       "        vertical-align: middle;\n",
       "    }\n",
       "\n",
       "    .dataframe tbody tr th {\n",
       "        vertical-align: top;\n",
       "    }\n",
       "\n",
       "    .dataframe thead th {\n",
       "        text-align: right;\n",
       "    }\n",
       "</style>\n",
       "<table border=\"1\" class=\"dataframe\">\n",
       "  <thead>\n",
       "    <tr style=\"text-align: right;\">\n",
       "      <th></th>\n",
       "      <th>Method</th>\n",
       "      <th>Accuracy</th>\n",
       "      <th>Precision</th>\n",
       "      <th>Recall</th>\n",
       "      <th>F1</th>\n",
       "      <th>AUC</th>\n",
       "      <th>Gini</th>\n",
       "    </tr>\n",
       "  </thead>\n",
       "  <tbody>\n",
       "    <tr>\n",
       "      <td>0</td>\n",
       "      <td>Logistic Regression</td>\n",
       "      <td>0.786667</td>\n",
       "      <td>0.841410</td>\n",
       "      <td>0.872146</td>\n",
       "      <td>0.856502</td>\n",
       "      <td>0.713851</td>\n",
       "      <td>0.427702</td>\n",
       "    </tr>\n",
       "    <tr>\n",
       "      <td>1</td>\n",
       "      <td>Random Forest</td>\n",
       "      <td>0.766667</td>\n",
       "      <td>0.809129</td>\n",
       "      <td>0.890411</td>\n",
       "      <td>0.847826</td>\n",
       "      <td>0.661255</td>\n",
       "      <td>0.322510</td>\n",
       "    </tr>\n",
       "    <tr>\n",
       "      <td>2</td>\n",
       "      <td>Decision Tree</td>\n",
       "      <td>0.710000</td>\n",
       "      <td>0.817308</td>\n",
       "      <td>0.776256</td>\n",
       "      <td>0.796253</td>\n",
       "      <td>0.653560</td>\n",
       "      <td>0.307120</td>\n",
       "    </tr>\n",
       "    <tr>\n",
       "      <td>3</td>\n",
       "      <td>SVM</td>\n",
       "      <td>0.800000</td>\n",
       "      <td>0.824490</td>\n",
       "      <td>0.922374</td>\n",
       "      <td>0.870690</td>\n",
       "      <td>0.695755</td>\n",
       "      <td>0.391510</td>\n",
       "    </tr>\n",
       "    <tr>\n",
       "      <td>4</td>\n",
       "      <td>Bagging Classifier</td>\n",
       "      <td>0.693333</td>\n",
       "      <td>0.806763</td>\n",
       "      <td>0.762557</td>\n",
       "      <td>0.784038</td>\n",
       "      <td>0.634365</td>\n",
       "      <td>0.268730</td>\n",
       "    </tr>\n",
       "    <tr>\n",
       "      <td>5</td>\n",
       "      <td>AdaBoost</td>\n",
       "      <td>0.773333</td>\n",
       "      <td>0.832599</td>\n",
       "      <td>0.863014</td>\n",
       "      <td>0.847534</td>\n",
       "      <td>0.696939</td>\n",
       "      <td>0.393878</td>\n",
       "    </tr>\n",
       "    <tr>\n",
       "      <td>6</td>\n",
       "      <td>Gradient Boosting</td>\n",
       "      <td>0.770000</td>\n",
       "      <td>0.820513</td>\n",
       "      <td>0.876712</td>\n",
       "      <td>0.847682</td>\n",
       "      <td>0.679097</td>\n",
       "      <td>0.358194</td>\n",
       "    </tr>\n",
       "  </tbody>\n",
       "</table>\n",
       "</div>"
      ],
      "text/plain": [
       "                Method  Accuracy  Precision    Recall        F1       AUC  \\\n",
       "0  Logistic Regression  0.786667   0.841410  0.872146  0.856502  0.713851   \n",
       "1        Random Forest  0.766667   0.809129  0.890411  0.847826  0.661255   \n",
       "2        Decision Tree  0.710000   0.817308  0.776256  0.796253  0.653560   \n",
       "3                  SVM  0.800000   0.824490  0.922374  0.870690  0.695755   \n",
       "4   Bagging Classifier  0.693333   0.806763  0.762557  0.784038  0.634365   \n",
       "5             AdaBoost  0.773333   0.832599  0.863014  0.847534  0.696939   \n",
       "6    Gradient Boosting  0.770000   0.820513  0.876712  0.847682  0.679097   \n",
       "\n",
       "       Gini  \n",
       "0  0.427702  \n",
       "1  0.322510  \n",
       "2  0.307120  \n",
       "3  0.391510  \n",
       "4  0.268730  \n",
       "5  0.393878  \n",
       "6  0.358194  "
      ]
     },
     "execution_count": 9,
     "metadata": {},
     "output_type": "execute_result"
    }
   ],
   "source": [
    "fit_classifier(algorithm_list, X_train, X_test, y_train, y_test)"
   ]
  },
  {
   "cell_type": "markdown",
   "metadata": {},
   "source": [
    "We may notice that the highest scores for most of the measureas are for **Logistic Regression**, **SVM** and **AdaBoost** algorithm.\n",
    "\n",
    "**Logistic Regression** algorithm has the highest Gini Score which is really important measure to evaluate preformance of credit risk models. Gini Score is commonly used for imbalanced data and in credit risk the likelihood of default is relatively low. Gini score varies from 0 to 1 and the closer it is to 1, the better. \n",
    "\n",
    "\n",
    "Algorithm **Bagging Classifier** gave the lowest performance."
   ]
  },
  {
   "cell_type": "markdown",
   "metadata": {},
   "source": [
    "### 4.2. Voting Classifier"
   ]
  },
  {
   "cell_type": "markdown",
   "metadata": {},
   "source": [
    "Voting Classifier can combine few alhorithms so as to predict the final class.\n",
    "Hard voting predicts based on majority and soft voting predicts based on average. Three algorithms are taken into consideration in Voting Classifier: Logistic Regression, Random Forest and SVM."
   ]
  },
  {
   "cell_type": "code",
   "execution_count": 11,
   "metadata": {},
   "outputs": [],
   "source": [
    "from sklearn.ensemble import VotingClassifier"
   ]
  },
  {
   "cell_type": "code",
   "execution_count": 12,
   "metadata": {},
   "outputs": [],
   "source": [
    "models = [\n",
    "    LogisticRegression(),\n",
    "    RandomForestClassifier(),\n",
    "    SVC(probability=True),\n",
    "]"
   ]
  },
  {
   "cell_type": "code",
   "execution_count": 13,
   "metadata": {},
   "outputs": [],
   "source": [
    "algorithm_list = {'Voting Classifier_soft': VotingClassifier(list(zip(['lr', 'rf', 'dt', 'svc'], models)), voting='soft'),\n",
    "                 'Voting Classifier_hard': VotingClassifier(list(zip(['lr', 'rf', 'dt', 'svc'], models)), voting='hard')}"
   ]
  },
  {
   "cell_type": "code",
   "execution_count": 14,
   "metadata": {},
   "outputs": [
    {
     "data": {
      "text/html": [
       "<div>\n",
       "<style scoped>\n",
       "    .dataframe tbody tr th:only-of-type {\n",
       "        vertical-align: middle;\n",
       "    }\n",
       "\n",
       "    .dataframe tbody tr th {\n",
       "        vertical-align: top;\n",
       "    }\n",
       "\n",
       "    .dataframe thead th {\n",
       "        text-align: right;\n",
       "    }\n",
       "</style>\n",
       "<table border=\"1\" class=\"dataframe\">\n",
       "  <thead>\n",
       "    <tr style=\"text-align: right;\">\n",
       "      <th></th>\n",
       "      <th>Method</th>\n",
       "      <th>Accuracy</th>\n",
       "      <th>Precision</th>\n",
       "      <th>Recall</th>\n",
       "      <th>F1</th>\n",
       "      <th>AUC</th>\n",
       "      <th>Gini</th>\n",
       "    </tr>\n",
       "  </thead>\n",
       "  <tbody>\n",
       "    <tr>\n",
       "      <td>0</td>\n",
       "      <td>Logistic Regression</td>\n",
       "      <td>0.786667</td>\n",
       "      <td>0.841410</td>\n",
       "      <td>0.872146</td>\n",
       "      <td>0.856502</td>\n",
       "      <td>0.713851</td>\n",
       "      <td>0.427702</td>\n",
       "    </tr>\n",
       "    <tr>\n",
       "      <td>1</td>\n",
       "      <td>Random Forest</td>\n",
       "      <td>0.766667</td>\n",
       "      <td>0.809129</td>\n",
       "      <td>0.890411</td>\n",
       "      <td>0.847826</td>\n",
       "      <td>0.661255</td>\n",
       "      <td>0.322510</td>\n",
       "    </tr>\n",
       "    <tr>\n",
       "      <td>2</td>\n",
       "      <td>Decision Tree</td>\n",
       "      <td>0.710000</td>\n",
       "      <td>0.817308</td>\n",
       "      <td>0.776256</td>\n",
       "      <td>0.796253</td>\n",
       "      <td>0.653560</td>\n",
       "      <td>0.307120</td>\n",
       "    </tr>\n",
       "    <tr>\n",
       "      <td>3</td>\n",
       "      <td>SVM</td>\n",
       "      <td>0.800000</td>\n",
       "      <td>0.824490</td>\n",
       "      <td>0.922374</td>\n",
       "      <td>0.870690</td>\n",
       "      <td>0.695755</td>\n",
       "      <td>0.391510</td>\n",
       "    </tr>\n",
       "    <tr>\n",
       "      <td>4</td>\n",
       "      <td>Bagging Classifier</td>\n",
       "      <td>0.693333</td>\n",
       "      <td>0.806763</td>\n",
       "      <td>0.762557</td>\n",
       "      <td>0.784038</td>\n",
       "      <td>0.634365</td>\n",
       "      <td>0.268730</td>\n",
       "    </tr>\n",
       "    <tr>\n",
       "      <td>5</td>\n",
       "      <td>AdaBoost</td>\n",
       "      <td>0.773333</td>\n",
       "      <td>0.832599</td>\n",
       "      <td>0.863014</td>\n",
       "      <td>0.847534</td>\n",
       "      <td>0.696939</td>\n",
       "      <td>0.393878</td>\n",
       "    </tr>\n",
       "    <tr>\n",
       "      <td>6</td>\n",
       "      <td>Gradient Boosting</td>\n",
       "      <td>0.770000</td>\n",
       "      <td>0.820513</td>\n",
       "      <td>0.876712</td>\n",
       "      <td>0.847682</td>\n",
       "      <td>0.679097</td>\n",
       "      <td>0.358194</td>\n",
       "    </tr>\n",
       "    <tr>\n",
       "      <td>7</td>\n",
       "      <td>Voting Classifier_soft</td>\n",
       "      <td>0.790000</td>\n",
       "      <td>0.825000</td>\n",
       "      <td>0.904110</td>\n",
       "      <td>0.862745</td>\n",
       "      <td>0.692796</td>\n",
       "      <td>0.385591</td>\n",
       "    </tr>\n",
       "    <tr>\n",
       "      <td>8</td>\n",
       "      <td>Voting Classifier_hard</td>\n",
       "      <td>0.800000</td>\n",
       "      <td>0.821862</td>\n",
       "      <td>0.926941</td>\n",
       "      <td>0.871245</td>\n",
       "      <td>0.691865</td>\n",
       "      <td>0.383731</td>\n",
       "    </tr>\n",
       "  </tbody>\n",
       "</table>\n",
       "</div>"
      ],
      "text/plain": [
       "                   Method  Accuracy  Precision    Recall        F1       AUC  \\\n",
       "0     Logistic Regression  0.786667   0.841410  0.872146  0.856502  0.713851   \n",
       "1           Random Forest  0.766667   0.809129  0.890411  0.847826  0.661255   \n",
       "2           Decision Tree  0.710000   0.817308  0.776256  0.796253  0.653560   \n",
       "3                     SVM  0.800000   0.824490  0.922374  0.870690  0.695755   \n",
       "4      Bagging Classifier  0.693333   0.806763  0.762557  0.784038  0.634365   \n",
       "5                AdaBoost  0.773333   0.832599  0.863014  0.847534  0.696939   \n",
       "6       Gradient Boosting  0.770000   0.820513  0.876712  0.847682  0.679097   \n",
       "7  Voting Classifier_soft  0.790000   0.825000  0.904110  0.862745  0.692796   \n",
       "8  Voting Classifier_hard  0.800000   0.821862  0.926941  0.871245  0.691865   \n",
       "\n",
       "       Gini  \n",
       "0  0.427702  \n",
       "1  0.322510  \n",
       "2  0.307120  \n",
       "3  0.391510  \n",
       "4  0.268730  \n",
       "5  0.393878  \n",
       "6  0.358194  \n",
       "7  0.385591  \n",
       "8  0.383731  "
      ]
     },
     "execution_count": 14,
     "metadata": {},
     "output_type": "execute_result"
    }
   ],
   "source": [
    "fit_classifier(algorithm_list, X_train, X_test, y_train, y_test)"
   ]
  },
  {
   "cell_type": "markdown",
   "metadata": {},
   "source": [
    "**Hard Voting Classifier** generated the highest accuracy score, however, when it comes to Gini Coefficient, still **Logistic Regression** yielded better score."
   ]
  },
  {
   "cell_type": "markdown",
   "metadata": {},
   "source": [
    "### 4.3. Models with optimal parameters"
   ]
  },
  {
   "cell_type": "markdown",
   "metadata": {},
   "source": [
    "In order to improve scores **GridSearch** will be used so as to find best parameters.\n",
    "Thanks to GridSearch the weights can be implemented for the classes which is common method for imbalanced dataset.\n",
    "\n",
    "Additionally, for GridSearch cross-validation splitting strategy was implemented during the learning process.\n",
    "\n",
    "GridSearch will be implemented for four algorithms: Logistic Regression, Random Forest, Decision Tree and SVM."
   ]
  },
  {
   "cell_type": "code",
   "execution_count": 15,
   "metadata": {},
   "outputs": [],
   "source": [
    "from sklearn.model_selection import GridSearchCV, StratifiedKFold"
   ]
  },
  {
   "cell_type": "markdown",
   "metadata": {},
   "source": [
    "#### 4.2.1. Logistic Regression"
   ]
  },
  {
   "cell_type": "code",
   "execution_count": 16,
   "metadata": {},
   "outputs": [],
   "source": [
    "params_LogReg = {'penalty': ['l1', 'l2', None],\n",
    "                 'C': [0.001, 0.01, 0.1, 1, 10, 100], \n",
    "                 'class_weight': [{0: 1, 1: 1}, {0: 1.5, 1: 1}, {0: 2, 1: 1}, {0: 2.5, 1: 1}, {0: 3, 1: 1}, {0: 3.5, 1: 1}]}"
   ]
  },
  {
   "cell_type": "code",
   "execution_count": 17,
   "metadata": {},
   "outputs": [
    {
     "data": {
      "text/plain": [
       "{'C': 0.01, 'class_weight': {0: 1.5, 1: 1}, 'penalty': 'l2'}"
      ]
     },
     "execution_count": 17,
     "metadata": {},
     "output_type": "execute_result"
    }
   ],
   "source": [
    "gs_LogReg = GridSearchCV(estimator=LogisticRegression(), param_grid=params_LogReg, cv=StratifiedKFold(10), n_jobs=-1)\n",
    "gs_LogReg.fit(X_train, y_train)\n",
    "gs_LogReg.best_params_"
   ]
  },
  {
   "cell_type": "markdown",
   "metadata": {},
   "source": [
    "#### 4.2.2. Random Forest"
   ]
  },
  {
   "cell_type": "code",
   "execution_count": 18,
   "metadata": {},
   "outputs": [],
   "source": [
    "params_RanFor = {'n_estimators': [1,10,100],\n",
    "                 'criterion': ['gini', 'entropy'],\n",
    "                'max_features' : [\"auto\", \"sqrt\", \"log2\"],\n",
    "                'max_leaf_nodes' : [10, 20, 100, 200, None],\n",
    "                'max_depth': [10, 20, 30, 40, 50, 60, 70, None],\n",
    "                'class_weight': [{0: 1, 1: 1}, {0: 1.5, 1: 1}, {0: 2, 1: 1}, {0: 2.5, 1: 1}, {0: 3, 1: 1}, {0: 3.5, 1: 1}]}"
   ]
  },
  {
   "cell_type": "code",
   "execution_count": 19,
   "metadata": {},
   "outputs": [
    {
     "data": {
      "text/plain": [
       "{'class_weight': {0: 3.5, 1: 1},\n",
       " 'criterion': 'gini',\n",
       " 'max_depth': 20,\n",
       " 'max_features': 'sqrt',\n",
       " 'max_leaf_nodes': 100,\n",
       " 'n_estimators': 100}"
      ]
     },
     "execution_count": 19,
     "metadata": {},
     "output_type": "execute_result"
    }
   ],
   "source": [
    "gs_RanFor = GridSearchCV(estimator=RandomForestClassifier(), param_grid=params_RanFor, cv=StratifiedKFold(10), n_jobs=-1)\n",
    "gs_RanFor.fit(X_train, y_train)\n",
    "gs_RanFor.best_params_"
   ]
  },
  {
   "cell_type": "markdown",
   "metadata": {},
   "source": [
    "#### 4.2.3. Decision Tree"
   ]
  },
  {
   "cell_type": "code",
   "execution_count": 20,
   "metadata": {},
   "outputs": [],
   "source": [
    "params_DecTree = {'criterion': ['gini', 'entropy'],\n",
    "                'max_features' : [\"auto\", \"sqrt\", \"log2\"],\n",
    "                'max_leaf_nodes' : [10, 20, 100, 200, None],\n",
    "                'max_depth': [10, 20, 30, 40, 50, 60, 70, None],\n",
    "                'class_weight': [{0: 1, 1: 1}, {0: 1.5, 1: 1}, {0: 2, 1: 1}, {0: 2.5, 1: 1}, {0: 3, 1: 1}, {0: 3.5, 1: 1}]}"
   ]
  },
  {
   "cell_type": "code",
   "execution_count": 21,
   "metadata": {},
   "outputs": [
    {
     "data": {
      "text/plain": [
       "{'class_weight': {0: 1, 1: 1},\n",
       " 'criterion': 'entropy',\n",
       " 'max_depth': 40,\n",
       " 'max_features': 'auto',\n",
       " 'max_leaf_nodes': 20}"
      ]
     },
     "execution_count": 21,
     "metadata": {},
     "output_type": "execute_result"
    }
   ],
   "source": [
    "gs_DecTree = GridSearchCV(estimator=DecisionTreeClassifier(), param_grid=params_DecTree, cv=StratifiedKFold(10), n_jobs=-1)\n",
    "gs_DecTree.fit(X_train, y_train)\n",
    "gs_DecTree.best_params_"
   ]
  },
  {
   "cell_type": "markdown",
   "metadata": {},
   "source": [
    "#### 4.2.2. SVM"
   ]
  },
  {
   "cell_type": "code",
   "execution_count": 22,
   "metadata": {},
   "outputs": [],
   "source": [
    "params_SVM = [{'kernel':['poly'], 'degree': [2,3,4,5], 'C':[0.1, 1, 10, 100, 1000],\n",
    "              'class_weight': [{0: 1, 1: 1}, {0: 1.5, 1: 1}, {0: 2, 1: 1}, {0: 2.5, 1: 1}, {0: 3, 1: 1}, {0: 3.5, 1: 1}]},\n",
    "     {'kernel': ['rbf'], 'gamma': [0.1, 1, 10], 'C':[0.1, 1, 10, 100, 1000],\n",
    "     'class_weight': [{0: 1, 1: 1}, {0: 1.5, 1: 1}, {0: 2, 1: 1}, {0: 2.5, 1: 1}, {0: 3, 1: 1}, {0: 3.5, 1: 1}]},\n",
    "     {'kernel': ['sigmoid', 'linear'], 'C':[0.1, 1, 10, 100, 1000],\n",
    "     'class_weight': [{0: 1, 1: 1}, {0: 1.5, 1: 1}, {0: 2, 1: 1}, {0: 2.5, 1: 1}, {0: 3, 1: 1}, {0: 3.5, 1: 1}]}]"
   ]
  },
  {
   "cell_type": "code",
   "execution_count": 23,
   "metadata": {},
   "outputs": [
    {
     "data": {
      "text/plain": [
       "{'C': 0.1, 'class_weight': {0: 2, 1: 1}, 'degree': 5, 'kernel': 'poly'}"
      ]
     },
     "execution_count": 23,
     "metadata": {},
     "output_type": "execute_result"
    }
   ],
   "source": [
    "gs_SVM = GridSearchCV(estimator=SVC(probability=True), param_grid=params_SVM, cv=StratifiedKFold(10), n_jobs=-1)\n",
    "gs_SVM.fit(X_train, y_train)\n",
    "gs_SVM.best_params_"
   ]
  },
  {
   "cell_type": "markdown",
   "metadata": {},
   "source": [
    "After obtaining best parameters for each algorithm we implement the estimator into the function in order to verify final scores on test set."
   ]
  },
  {
   "cell_type": "code",
   "execution_count": 24,
   "metadata": {},
   "outputs": [],
   "source": [
    "algorithm_list = {'Logistic Regression GS': gs_LogReg.best_estimator_, \n",
    "                   'Random Forest GS': gs_RanFor.best_estimator_,\n",
    "                  'Decision Tree GS': gs_DecTree.best_estimator_,\n",
    "                  'SVM GS': gs_SVM.best_estimator_}"
   ]
  },
  {
   "cell_type": "code",
   "execution_count": 25,
   "metadata": {},
   "outputs": [
    {
     "data": {
      "text/html": [
       "<div>\n",
       "<style scoped>\n",
       "    .dataframe tbody tr th:only-of-type {\n",
       "        vertical-align: middle;\n",
       "    }\n",
       "\n",
       "    .dataframe tbody tr th {\n",
       "        vertical-align: top;\n",
       "    }\n",
       "\n",
       "    .dataframe thead th {\n",
       "        text-align: right;\n",
       "    }\n",
       "</style>\n",
       "<table border=\"1\" class=\"dataframe\">\n",
       "  <thead>\n",
       "    <tr style=\"text-align: right;\">\n",
       "      <th></th>\n",
       "      <th>Method</th>\n",
       "      <th>Accuracy</th>\n",
       "      <th>Precision</th>\n",
       "      <th>Recall</th>\n",
       "      <th>F1</th>\n",
       "      <th>AUC</th>\n",
       "      <th>Gini</th>\n",
       "    </tr>\n",
       "  </thead>\n",
       "  <tbody>\n",
       "    <tr>\n",
       "      <td>0</td>\n",
       "      <td>Logistic Regression</td>\n",
       "      <td>0.786667</td>\n",
       "      <td>0.841410</td>\n",
       "      <td>0.872146</td>\n",
       "      <td>0.856502</td>\n",
       "      <td>0.713851</td>\n",
       "      <td>0.427702</td>\n",
       "    </tr>\n",
       "    <tr>\n",
       "      <td>1</td>\n",
       "      <td>Random Forest</td>\n",
       "      <td>0.766667</td>\n",
       "      <td>0.809129</td>\n",
       "      <td>0.890411</td>\n",
       "      <td>0.847826</td>\n",
       "      <td>0.661255</td>\n",
       "      <td>0.322510</td>\n",
       "    </tr>\n",
       "    <tr>\n",
       "      <td>2</td>\n",
       "      <td>Decision Tree</td>\n",
       "      <td>0.710000</td>\n",
       "      <td>0.817308</td>\n",
       "      <td>0.776256</td>\n",
       "      <td>0.796253</td>\n",
       "      <td>0.653560</td>\n",
       "      <td>0.307120</td>\n",
       "    </tr>\n",
       "    <tr>\n",
       "      <td>3</td>\n",
       "      <td>SVM</td>\n",
       "      <td>0.800000</td>\n",
       "      <td>0.824490</td>\n",
       "      <td>0.922374</td>\n",
       "      <td>0.870690</td>\n",
       "      <td>0.695755</td>\n",
       "      <td>0.391510</td>\n",
       "    </tr>\n",
       "    <tr>\n",
       "      <td>4</td>\n",
       "      <td>Bagging Classifier</td>\n",
       "      <td>0.693333</td>\n",
       "      <td>0.806763</td>\n",
       "      <td>0.762557</td>\n",
       "      <td>0.784038</td>\n",
       "      <td>0.634365</td>\n",
       "      <td>0.268730</td>\n",
       "    </tr>\n",
       "    <tr>\n",
       "      <td>5</td>\n",
       "      <td>AdaBoost</td>\n",
       "      <td>0.773333</td>\n",
       "      <td>0.832599</td>\n",
       "      <td>0.863014</td>\n",
       "      <td>0.847534</td>\n",
       "      <td>0.696939</td>\n",
       "      <td>0.393878</td>\n",
       "    </tr>\n",
       "    <tr>\n",
       "      <td>6</td>\n",
       "      <td>Gradient Boosting</td>\n",
       "      <td>0.770000</td>\n",
       "      <td>0.820513</td>\n",
       "      <td>0.876712</td>\n",
       "      <td>0.847682</td>\n",
       "      <td>0.679097</td>\n",
       "      <td>0.358194</td>\n",
       "    </tr>\n",
       "    <tr>\n",
       "      <td>7</td>\n",
       "      <td>Voting Classifier_soft</td>\n",
       "      <td>0.790000</td>\n",
       "      <td>0.825000</td>\n",
       "      <td>0.904110</td>\n",
       "      <td>0.862745</td>\n",
       "      <td>0.692796</td>\n",
       "      <td>0.385591</td>\n",
       "    </tr>\n",
       "    <tr>\n",
       "      <td>8</td>\n",
       "      <td>Voting Classifier_hard</td>\n",
       "      <td>0.800000</td>\n",
       "      <td>0.821862</td>\n",
       "      <td>0.926941</td>\n",
       "      <td>0.871245</td>\n",
       "      <td>0.691865</td>\n",
       "      <td>0.383731</td>\n",
       "    </tr>\n",
       "    <tr>\n",
       "      <td>9</td>\n",
       "      <td>Logistic Regression GS</td>\n",
       "      <td>0.803333</td>\n",
       "      <td>0.833333</td>\n",
       "      <td>0.913242</td>\n",
       "      <td>0.871460</td>\n",
       "      <td>0.709707</td>\n",
       "      <td>0.419415</td>\n",
       "    </tr>\n",
       "    <tr>\n",
       "      <td>10</td>\n",
       "      <td>Random Forest GS</td>\n",
       "      <td>0.763333</td>\n",
       "      <td>0.836364</td>\n",
       "      <td>0.840183</td>\n",
       "      <td>0.838269</td>\n",
       "      <td>0.697869</td>\n",
       "      <td>0.395738</td>\n",
       "    </tr>\n",
       "    <tr>\n",
       "      <td>11</td>\n",
       "      <td>Decision Tree GS</td>\n",
       "      <td>0.703333</td>\n",
       "      <td>0.738971</td>\n",
       "      <td>0.917808</td>\n",
       "      <td>0.818737</td>\n",
       "      <td>0.520633</td>\n",
       "      <td>0.041265</td>\n",
       "    </tr>\n",
       "    <tr>\n",
       "      <td>12</td>\n",
       "      <td>SVM GS</td>\n",
       "      <td>0.783333</td>\n",
       "      <td>0.834783</td>\n",
       "      <td>0.876712</td>\n",
       "      <td>0.855234</td>\n",
       "      <td>0.703788</td>\n",
       "      <td>0.407577</td>\n",
       "    </tr>\n",
       "  </tbody>\n",
       "</table>\n",
       "</div>"
      ],
      "text/plain": [
       "                    Method  Accuracy  Precision    Recall        F1       AUC  \\\n",
       "0      Logistic Regression  0.786667   0.841410  0.872146  0.856502  0.713851   \n",
       "1            Random Forest  0.766667   0.809129  0.890411  0.847826  0.661255   \n",
       "2            Decision Tree  0.710000   0.817308  0.776256  0.796253  0.653560   \n",
       "3                      SVM  0.800000   0.824490  0.922374  0.870690  0.695755   \n",
       "4       Bagging Classifier  0.693333   0.806763  0.762557  0.784038  0.634365   \n",
       "5                 AdaBoost  0.773333   0.832599  0.863014  0.847534  0.696939   \n",
       "6        Gradient Boosting  0.770000   0.820513  0.876712  0.847682  0.679097   \n",
       "7   Voting Classifier_soft  0.790000   0.825000  0.904110  0.862745  0.692796   \n",
       "8   Voting Classifier_hard  0.800000   0.821862  0.926941  0.871245  0.691865   \n",
       "9   Logistic Regression GS  0.803333   0.833333  0.913242  0.871460  0.709707   \n",
       "10        Random Forest GS  0.763333   0.836364  0.840183  0.838269  0.697869   \n",
       "11        Decision Tree GS  0.703333   0.738971  0.917808  0.818737  0.520633   \n",
       "12                  SVM GS  0.783333   0.834783  0.876712  0.855234  0.703788   \n",
       "\n",
       "        Gini  \n",
       "0   0.427702  \n",
       "1   0.322510  \n",
       "2   0.307120  \n",
       "3   0.391510  \n",
       "4   0.268730  \n",
       "5   0.393878  \n",
       "6   0.358194  \n",
       "7   0.385591  \n",
       "8   0.383731  \n",
       "9   0.419415  \n",
       "10  0.395738  \n",
       "11  0.041265  \n",
       "12  0.407577  "
      ]
     },
     "execution_count": 25,
     "metadata": {},
     "output_type": "execute_result"
    }
   ],
   "source": [
    "fit_classifier(algorithm_list, X_train, X_test, y_train, y_test)"
   ]
  },
  {
   "cell_type": "markdown",
   "metadata": {},
   "source": [
    "We may notice that for **Random Forest** and **SVM** we obtained better scores when it comes to Gini Coefficient. However, still the best model is **Logistic Regression** with default parameters."
   ]
  },
  {
   "cell_type": "markdown",
   "metadata": {},
   "source": [
    "### 4.4. Cost-Sensitive Classifiers"
   ]
  },
  {
   "cell_type": "markdown",
   "metadata": {},
   "source": [
    "Cost-sensitive classifiers will be used in order to implement the cost matrix that was provided with dataset. Costcla package has been applied in order to fit cost-sensitive Logistic Regression, Random Forest and Decision tree."
   ]
  },
  {
   "cell_type": "code",
   "execution_count": 26,
   "metadata": {},
   "outputs": [
    {
     "name": "stderr",
     "output_type": "stream",
     "text": [
      "D:\\Programy\\Anaconda\\lib\\site-packages\\sklearn\\externals\\joblib\\__init__.py:15: FutureWarning: sklearn.externals.joblib is deprecated in 0.21 and will be removed in 0.23. Please import this functionality directly from joblib, which can be installed with: pip install joblib. If this warning is raised when loading pickled models, you may need to re-serialize those models with scikit-learn 0.21+.\n",
      "  warnings.warn(msg, category=FutureWarning)\n",
      "D:\\Programy\\Anaconda\\lib\\site-packages\\sklearn\\externals\\six.py:31: FutureWarning: The module is deprecated in version 0.21 and will be removed in version 0.23 since we've dropped support for Python 2.7. Please rely on the official version of six (https://pypi.org/project/six/).\n",
      "  \"(https://pypi.org/project/six/).\", FutureWarning)\n",
      "D:\\Programy\\Anaconda\\lib\\site-packages\\sklearn\\utils\\deprecation.py:144: FutureWarning: The sklearn.ensemble.base module is  deprecated in version 0.22 and will be removed in version 0.24. The corresponding classes / functions should instead be imported from sklearn.ensemble. Anything that cannot be imported from sklearn.ensemble is now part of the private API.\n",
      "  warnings.warn(message, FutureWarning)\n"
     ]
    }
   ],
   "source": [
    "from costcla.metrics import cost_loss, savings_score\n",
    "from costcla.models import CostSensitiveLogisticRegression, CostSensitiveRandomForestClassifier \n",
    "from costcla.models import CostSensitiveDecisionTreeClassifier"
   ]
  },
  {
   "cell_type": "code",
   "execution_count": 27,
   "metadata": {},
   "outputs": [],
   "source": [
    "cost_mat_train = np.zeros((len(y_train),4))"
   ]
  },
  {
   "cell_type": "code",
   "execution_count": 28,
   "metadata": {},
   "outputs": [],
   "source": [
    "#false positives cost 5\n",
    "cost_mat_train[:,0]=5\n",
    "#false negatives cost 1\n",
    "cost_mat_train[:,1]=1"
   ]
  },
  {
   "cell_type": "markdown",
   "metadata": {},
   "source": [
    "Classifying the customer as a \"good\" one who will not pay off the debt (false positive) costs the bank more than classifying the customer who would pay off the debt as a \"bad\" one and not granting him/ her a loan (false negative)."
   ]
  },
  {
   "cell_type": "code",
   "execution_count": 29,
   "metadata": {},
   "outputs": [
    {
     "data": {
      "text/plain": [
       "array([[5., 1., 0., 0.],\n",
       "       [5., 1., 0., 0.],\n",
       "       [5., 1., 0., 0.],\n",
       "       ...,\n",
       "       [5., 1., 0., 0.],\n",
       "       [5., 1., 0., 0.],\n",
       "       [5., 1., 0., 0.]])"
      ]
     },
     "execution_count": 29,
     "metadata": {},
     "output_type": "execute_result"
    }
   ],
   "source": [
    "cost_mat_train "
   ]
  },
  {
   "cell_type": "code",
   "execution_count": 30,
   "metadata": {},
   "outputs": [],
   "source": [
    "cost_mat_test = np.zeros((len(y_test),4))\n",
    "\n",
    "#false positives cost 5\n",
    "cost_mat_test[:,0]=5\n",
    "#false negatives cost 1\n",
    "cost_mat_test[:,1]=1"
   ]
  },
  {
   "cell_type": "markdown",
   "metadata": {},
   "source": [
    "The function needs to be changed a little bit so as to implement cost matrix."
   ]
  },
  {
   "cell_type": "code",
   "execution_count": 31,
   "metadata": {},
   "outputs": [],
   "source": [
    "def fit_classifier2(algorithm_list, X_train, X_test, y_train, y_test, cost_mat_train):\n",
    "    for algorithm in algorithm_list.values():\n",
    "            \n",
    "        algorithm.fit(X_train, y_train, cost_mat_train)\n",
    "        y_pred = algorithm.predict(X_test)\n",
    "\n",
    "        Accuracy = accuracy_score(y_test, y_pred)\n",
    "        Precision = precision_score(y_test, y_pred)\n",
    "        Recall = recall_score(y_test, y_pred)\n",
    "        F1_score= f1_score(y_test, y_pred)\n",
    "        try:\n",
    "\n",
    "            AUC = roc_auc_score(y_test, y_pred)\n",
    "            Gini = (2 * (roc_auc_score(y_test, y_pred))) - 1\n",
    "            \n",
    "        except ValueError:\n",
    "            AUC = 'N/A'\n",
    "            Gini = 'N/A'\n",
    "            pass\n",
    "        \n",
    "        Accuracy_list.append(Accuracy)\n",
    "        Precision_list.append(Precision)\n",
    "        Recall_list.append(Recall)\n",
    "        F1_score_list.append(F1_score)\n",
    "        AUC_list.append(AUC)\n",
    "        Gini_list.append(Gini)\n",
    "        \n",
    "        Algorithm_name = list(algorithm_list.keys())[list(algorithm_list.values()).index(algorithm)]\n",
    "        Algorithm_name_list.append(Algorithm_name)\n",
    "\n",
    " \n",
    "    d = {'Method': Algorithm_name_list,\n",
    "         'Accuracy': Accuracy_list,\n",
    "         'Precision': Precision_list, \n",
    "         'Recall': Recall_list, \n",
    "         'F1': F1_score_list,\n",
    "         'AUC': AUC_list,\n",
    "         'Gini': Gini_list\n",
    "         }\n",
    "    df = pd.DataFrame(data=d)\n",
    "\n",
    "    return df"
   ]
  },
  {
   "cell_type": "code",
   "execution_count": 32,
   "metadata": {},
   "outputs": [],
   "source": [
    "algorithm_list = {'Cost-Sensitive Logistic Regression': CostSensitiveLogisticRegression(), \n",
    "                   'Cost-Sensitive Random Forest':  CostSensitiveRandomForestClassifier(),\n",
    "                  'Cost-Sensitive Decision Tree': CostSensitiveDecisionTreeClassifier()}"
   ]
  },
  {
   "cell_type": "code",
   "execution_count": 33,
   "metadata": {},
   "outputs": [
    {
     "name": "stderr",
     "output_type": "stream",
     "text": [
      "D:\\Programy\\Anaconda\\lib\\site-packages\\sklearn\\metrics\\_classification.py:1272: UndefinedMetricWarning: Precision is ill-defined and being set to 0.0 due to no predicted samples. Use `zero_division` parameter to control this behavior.\n",
      "  _warn_prf(average, modifier, msg_start, len(result))\n"
     ]
    },
    {
     "data": {
      "text/html": [
       "<div>\n",
       "<style scoped>\n",
       "    .dataframe tbody tr th:only-of-type {\n",
       "        vertical-align: middle;\n",
       "    }\n",
       "\n",
       "    .dataframe tbody tr th {\n",
       "        vertical-align: top;\n",
       "    }\n",
       "\n",
       "    .dataframe thead th {\n",
       "        text-align: right;\n",
       "    }\n",
       "</style>\n",
       "<table border=\"1\" class=\"dataframe\">\n",
       "  <thead>\n",
       "    <tr style=\"text-align: right;\">\n",
       "      <th></th>\n",
       "      <th>Method</th>\n",
       "      <th>Accuracy</th>\n",
       "      <th>Precision</th>\n",
       "      <th>Recall</th>\n",
       "      <th>F1</th>\n",
       "      <th>AUC</th>\n",
       "      <th>Gini</th>\n",
       "    </tr>\n",
       "  </thead>\n",
       "  <tbody>\n",
       "    <tr>\n",
       "      <td>0</td>\n",
       "      <td>Logistic Regression</td>\n",
       "      <td>0.786667</td>\n",
       "      <td>0.841410</td>\n",
       "      <td>0.872146</td>\n",
       "      <td>0.856502</td>\n",
       "      <td>0.713851</td>\n",
       "      <td>0.427702</td>\n",
       "    </tr>\n",
       "    <tr>\n",
       "      <td>1</td>\n",
       "      <td>Random Forest</td>\n",
       "      <td>0.766667</td>\n",
       "      <td>0.809129</td>\n",
       "      <td>0.890411</td>\n",
       "      <td>0.847826</td>\n",
       "      <td>0.661255</td>\n",
       "      <td>0.322510</td>\n",
       "    </tr>\n",
       "    <tr>\n",
       "      <td>2</td>\n",
       "      <td>Decision Tree</td>\n",
       "      <td>0.710000</td>\n",
       "      <td>0.817308</td>\n",
       "      <td>0.776256</td>\n",
       "      <td>0.796253</td>\n",
       "      <td>0.653560</td>\n",
       "      <td>0.307120</td>\n",
       "    </tr>\n",
       "    <tr>\n",
       "      <td>3</td>\n",
       "      <td>SVM</td>\n",
       "      <td>0.800000</td>\n",
       "      <td>0.824490</td>\n",
       "      <td>0.922374</td>\n",
       "      <td>0.870690</td>\n",
       "      <td>0.695755</td>\n",
       "      <td>0.391510</td>\n",
       "    </tr>\n",
       "    <tr>\n",
       "      <td>4</td>\n",
       "      <td>Bagging Classifier</td>\n",
       "      <td>0.693333</td>\n",
       "      <td>0.806763</td>\n",
       "      <td>0.762557</td>\n",
       "      <td>0.784038</td>\n",
       "      <td>0.634365</td>\n",
       "      <td>0.268730</td>\n",
       "    </tr>\n",
       "    <tr>\n",
       "      <td>5</td>\n",
       "      <td>AdaBoost</td>\n",
       "      <td>0.773333</td>\n",
       "      <td>0.832599</td>\n",
       "      <td>0.863014</td>\n",
       "      <td>0.847534</td>\n",
       "      <td>0.696939</td>\n",
       "      <td>0.393878</td>\n",
       "    </tr>\n",
       "    <tr>\n",
       "      <td>6</td>\n",
       "      <td>Gradient Boosting</td>\n",
       "      <td>0.770000</td>\n",
       "      <td>0.820513</td>\n",
       "      <td>0.876712</td>\n",
       "      <td>0.847682</td>\n",
       "      <td>0.679097</td>\n",
       "      <td>0.358194</td>\n",
       "    </tr>\n",
       "    <tr>\n",
       "      <td>7</td>\n",
       "      <td>Voting Classifier_soft</td>\n",
       "      <td>0.790000</td>\n",
       "      <td>0.825000</td>\n",
       "      <td>0.904110</td>\n",
       "      <td>0.862745</td>\n",
       "      <td>0.692796</td>\n",
       "      <td>0.385591</td>\n",
       "    </tr>\n",
       "    <tr>\n",
       "      <td>8</td>\n",
       "      <td>Voting Classifier_hard</td>\n",
       "      <td>0.800000</td>\n",
       "      <td>0.821862</td>\n",
       "      <td>0.926941</td>\n",
       "      <td>0.871245</td>\n",
       "      <td>0.691865</td>\n",
       "      <td>0.383731</td>\n",
       "    </tr>\n",
       "    <tr>\n",
       "      <td>9</td>\n",
       "      <td>Logistic Regression GS</td>\n",
       "      <td>0.803333</td>\n",
       "      <td>0.833333</td>\n",
       "      <td>0.913242</td>\n",
       "      <td>0.871460</td>\n",
       "      <td>0.709707</td>\n",
       "      <td>0.419415</td>\n",
       "    </tr>\n",
       "    <tr>\n",
       "      <td>10</td>\n",
       "      <td>Random Forest GS</td>\n",
       "      <td>0.763333</td>\n",
       "      <td>0.836364</td>\n",
       "      <td>0.840183</td>\n",
       "      <td>0.838269</td>\n",
       "      <td>0.697869</td>\n",
       "      <td>0.395738</td>\n",
       "    </tr>\n",
       "    <tr>\n",
       "      <td>11</td>\n",
       "      <td>Decision Tree GS</td>\n",
       "      <td>0.703333</td>\n",
       "      <td>0.738971</td>\n",
       "      <td>0.917808</td>\n",
       "      <td>0.818737</td>\n",
       "      <td>0.520633</td>\n",
       "      <td>0.041265</td>\n",
       "    </tr>\n",
       "    <tr>\n",
       "      <td>12</td>\n",
       "      <td>SVM GS</td>\n",
       "      <td>0.783333</td>\n",
       "      <td>0.834783</td>\n",
       "      <td>0.876712</td>\n",
       "      <td>0.855234</td>\n",
       "      <td>0.703788</td>\n",
       "      <td>0.407577</td>\n",
       "    </tr>\n",
       "    <tr>\n",
       "      <td>13</td>\n",
       "      <td>Cost-Sensitive Logistic Regression</td>\n",
       "      <td>0.310000</td>\n",
       "      <td>0.875000</td>\n",
       "      <td>0.063927</td>\n",
       "      <td>0.119149</td>\n",
       "      <td>0.519618</td>\n",
       "      <td>0.039236</td>\n",
       "    </tr>\n",
       "    <tr>\n",
       "      <td>14</td>\n",
       "      <td>Cost-Sensitive Random Forest</td>\n",
       "      <td>0.270000</td>\n",
       "      <td>0.000000</td>\n",
       "      <td>0.000000</td>\n",
       "      <td>0.000000</td>\n",
       "      <td>0.500000</td>\n",
       "      <td>0.000000</td>\n",
       "    </tr>\n",
       "    <tr>\n",
       "      <td>15</td>\n",
       "      <td>Cost-Sensitive Decision Tree</td>\n",
       "      <td>0.596667</td>\n",
       "      <td>0.865672</td>\n",
       "      <td>0.529680</td>\n",
       "      <td>0.657224</td>\n",
       "      <td>0.653729</td>\n",
       "      <td>0.307458</td>\n",
       "    </tr>\n",
       "  </tbody>\n",
       "</table>\n",
       "</div>"
      ],
      "text/plain": [
       "                                Method  Accuracy  Precision    Recall  \\\n",
       "0                  Logistic Regression  0.786667   0.841410  0.872146   \n",
       "1                        Random Forest  0.766667   0.809129  0.890411   \n",
       "2                        Decision Tree  0.710000   0.817308  0.776256   \n",
       "3                                  SVM  0.800000   0.824490  0.922374   \n",
       "4                   Bagging Classifier  0.693333   0.806763  0.762557   \n",
       "5                             AdaBoost  0.773333   0.832599  0.863014   \n",
       "6                    Gradient Boosting  0.770000   0.820513  0.876712   \n",
       "7               Voting Classifier_soft  0.790000   0.825000  0.904110   \n",
       "8               Voting Classifier_hard  0.800000   0.821862  0.926941   \n",
       "9               Logistic Regression GS  0.803333   0.833333  0.913242   \n",
       "10                    Random Forest GS  0.763333   0.836364  0.840183   \n",
       "11                    Decision Tree GS  0.703333   0.738971  0.917808   \n",
       "12                              SVM GS  0.783333   0.834783  0.876712   \n",
       "13  Cost-Sensitive Logistic Regression  0.310000   0.875000  0.063927   \n",
       "14        Cost-Sensitive Random Forest  0.270000   0.000000  0.000000   \n",
       "15        Cost-Sensitive Decision Tree  0.596667   0.865672  0.529680   \n",
       "\n",
       "          F1       AUC      Gini  \n",
       "0   0.856502  0.713851  0.427702  \n",
       "1   0.847826  0.661255  0.322510  \n",
       "2   0.796253  0.653560  0.307120  \n",
       "3   0.870690  0.695755  0.391510  \n",
       "4   0.784038  0.634365  0.268730  \n",
       "5   0.847534  0.696939  0.393878  \n",
       "6   0.847682  0.679097  0.358194  \n",
       "7   0.862745  0.692796  0.385591  \n",
       "8   0.871245  0.691865  0.383731  \n",
       "9   0.871460  0.709707  0.419415  \n",
       "10  0.838269  0.697869  0.395738  \n",
       "11  0.818737  0.520633  0.041265  \n",
       "12  0.855234  0.703788  0.407577  \n",
       "13  0.119149  0.519618  0.039236  \n",
       "14  0.000000  0.500000  0.000000  \n",
       "15  0.657224  0.653729  0.307458  "
      ]
     },
     "execution_count": 33,
     "metadata": {},
     "output_type": "execute_result"
    }
   ],
   "source": [
    "fit_classifier2(algorithm_list, X_train, X_test, y_train, y_test, cost_mat_train)"
   ]
  },
  {
   "cell_type": "markdown",
   "metadata": {},
   "source": [
    "The scores obtained from these algorithms are not satysfying and previous algorithms lead to better results. "
   ]
  },
  {
   "cell_type": "markdown",
   "metadata": {},
   "source": [
    "These algorithms will be calculated once again with slightly modified cost matrix. The ratio between the costs of False Positive and False Negative classification will be silmar as the ratio between the number of each classes."
   ]
  },
  {
   "cell_type": "code",
   "execution_count": 34,
   "metadata": {},
   "outputs": [],
   "source": [
    "#false positives cost 5\n",
    "cost_mat_train[:,0]=5\n",
    "#false negatives cost 2.5\n",
    "cost_mat_train[:,1]=2.5"
   ]
  },
  {
   "cell_type": "code",
   "execution_count": 35,
   "metadata": {},
   "outputs": [],
   "source": [
    "algorithm_list = {'Cost-Sensitive Logistic Regression': CostSensitiveLogisticRegression(), \n",
    "                   'Cost-Sensitive Random Forest':  CostSensitiveRandomForestClassifier(),\n",
    "                  'Cost-Sensitive Decision Tree': CostSensitiveDecisionTreeClassifier()}"
   ]
  },
  {
   "cell_type": "code",
   "execution_count": 36,
   "metadata": {},
   "outputs": [
    {
     "data": {
      "text/html": [
       "<div>\n",
       "<style scoped>\n",
       "    .dataframe tbody tr th:only-of-type {\n",
       "        vertical-align: middle;\n",
       "    }\n",
       "\n",
       "    .dataframe tbody tr th {\n",
       "        vertical-align: top;\n",
       "    }\n",
       "\n",
       "    .dataframe thead th {\n",
       "        text-align: right;\n",
       "    }\n",
       "</style>\n",
       "<table border=\"1\" class=\"dataframe\">\n",
       "  <thead>\n",
       "    <tr style=\"text-align: right;\">\n",
       "      <th></th>\n",
       "      <th>Method</th>\n",
       "      <th>Accuracy</th>\n",
       "      <th>Precision</th>\n",
       "      <th>Recall</th>\n",
       "      <th>F1</th>\n",
       "      <th>AUC</th>\n",
       "      <th>Gini</th>\n",
       "    </tr>\n",
       "  </thead>\n",
       "  <tbody>\n",
       "    <tr>\n",
       "      <td>0</td>\n",
       "      <td>Logistic Regression</td>\n",
       "      <td>0.786667</td>\n",
       "      <td>0.841410</td>\n",
       "      <td>0.872146</td>\n",
       "      <td>0.856502</td>\n",
       "      <td>0.713851</td>\n",
       "      <td>0.427702</td>\n",
       "    </tr>\n",
       "    <tr>\n",
       "      <td>1</td>\n",
       "      <td>Random Forest</td>\n",
       "      <td>0.766667</td>\n",
       "      <td>0.809129</td>\n",
       "      <td>0.890411</td>\n",
       "      <td>0.847826</td>\n",
       "      <td>0.661255</td>\n",
       "      <td>0.322510</td>\n",
       "    </tr>\n",
       "    <tr>\n",
       "      <td>2</td>\n",
       "      <td>Decision Tree</td>\n",
       "      <td>0.710000</td>\n",
       "      <td>0.817308</td>\n",
       "      <td>0.776256</td>\n",
       "      <td>0.796253</td>\n",
       "      <td>0.653560</td>\n",
       "      <td>0.307120</td>\n",
       "    </tr>\n",
       "    <tr>\n",
       "      <td>3</td>\n",
       "      <td>SVM</td>\n",
       "      <td>0.800000</td>\n",
       "      <td>0.824490</td>\n",
       "      <td>0.922374</td>\n",
       "      <td>0.870690</td>\n",
       "      <td>0.695755</td>\n",
       "      <td>0.391510</td>\n",
       "    </tr>\n",
       "    <tr>\n",
       "      <td>4</td>\n",
       "      <td>Bagging Classifier</td>\n",
       "      <td>0.693333</td>\n",
       "      <td>0.806763</td>\n",
       "      <td>0.762557</td>\n",
       "      <td>0.784038</td>\n",
       "      <td>0.634365</td>\n",
       "      <td>0.268730</td>\n",
       "    </tr>\n",
       "    <tr>\n",
       "      <td>5</td>\n",
       "      <td>AdaBoost</td>\n",
       "      <td>0.773333</td>\n",
       "      <td>0.832599</td>\n",
       "      <td>0.863014</td>\n",
       "      <td>0.847534</td>\n",
       "      <td>0.696939</td>\n",
       "      <td>0.393878</td>\n",
       "    </tr>\n",
       "    <tr>\n",
       "      <td>6</td>\n",
       "      <td>Gradient Boosting</td>\n",
       "      <td>0.770000</td>\n",
       "      <td>0.820513</td>\n",
       "      <td>0.876712</td>\n",
       "      <td>0.847682</td>\n",
       "      <td>0.679097</td>\n",
       "      <td>0.358194</td>\n",
       "    </tr>\n",
       "    <tr>\n",
       "      <td>7</td>\n",
       "      <td>Voting Classifier_soft</td>\n",
       "      <td>0.790000</td>\n",
       "      <td>0.825000</td>\n",
       "      <td>0.904110</td>\n",
       "      <td>0.862745</td>\n",
       "      <td>0.692796</td>\n",
       "      <td>0.385591</td>\n",
       "    </tr>\n",
       "    <tr>\n",
       "      <td>8</td>\n",
       "      <td>Voting Classifier_hard</td>\n",
       "      <td>0.800000</td>\n",
       "      <td>0.821862</td>\n",
       "      <td>0.926941</td>\n",
       "      <td>0.871245</td>\n",
       "      <td>0.691865</td>\n",
       "      <td>0.383731</td>\n",
       "    </tr>\n",
       "    <tr>\n",
       "      <td>9</td>\n",
       "      <td>Logistic Regression GS</td>\n",
       "      <td>0.803333</td>\n",
       "      <td>0.833333</td>\n",
       "      <td>0.913242</td>\n",
       "      <td>0.871460</td>\n",
       "      <td>0.709707</td>\n",
       "      <td>0.419415</td>\n",
       "    </tr>\n",
       "    <tr>\n",
       "      <td>10</td>\n",
       "      <td>Random Forest GS</td>\n",
       "      <td>0.763333</td>\n",
       "      <td>0.836364</td>\n",
       "      <td>0.840183</td>\n",
       "      <td>0.838269</td>\n",
       "      <td>0.697869</td>\n",
       "      <td>0.395738</td>\n",
       "    </tr>\n",
       "    <tr>\n",
       "      <td>11</td>\n",
       "      <td>Decision Tree GS</td>\n",
       "      <td>0.703333</td>\n",
       "      <td>0.738971</td>\n",
       "      <td>0.917808</td>\n",
       "      <td>0.818737</td>\n",
       "      <td>0.520633</td>\n",
       "      <td>0.041265</td>\n",
       "    </tr>\n",
       "    <tr>\n",
       "      <td>12</td>\n",
       "      <td>SVM GS</td>\n",
       "      <td>0.783333</td>\n",
       "      <td>0.834783</td>\n",
       "      <td>0.876712</td>\n",
       "      <td>0.855234</td>\n",
       "      <td>0.703788</td>\n",
       "      <td>0.407577</td>\n",
       "    </tr>\n",
       "    <tr>\n",
       "      <td>13</td>\n",
       "      <td>Cost-Sensitive Logistic Regression</td>\n",
       "      <td>0.310000</td>\n",
       "      <td>0.875000</td>\n",
       "      <td>0.063927</td>\n",
       "      <td>0.119149</td>\n",
       "      <td>0.519618</td>\n",
       "      <td>0.039236</td>\n",
       "    </tr>\n",
       "    <tr>\n",
       "      <td>14</td>\n",
       "      <td>Cost-Sensitive Random Forest</td>\n",
       "      <td>0.270000</td>\n",
       "      <td>0.000000</td>\n",
       "      <td>0.000000</td>\n",
       "      <td>0.000000</td>\n",
       "      <td>0.500000</td>\n",
       "      <td>0.000000</td>\n",
       "    </tr>\n",
       "    <tr>\n",
       "      <td>15</td>\n",
       "      <td>Cost-Sensitive Decision Tree</td>\n",
       "      <td>0.596667</td>\n",
       "      <td>0.865672</td>\n",
       "      <td>0.529680</td>\n",
       "      <td>0.657224</td>\n",
       "      <td>0.653729</td>\n",
       "      <td>0.307458</td>\n",
       "    </tr>\n",
       "    <tr>\n",
       "      <td>16</td>\n",
       "      <td>Cost-Sensitive Logistic Regression</td>\n",
       "      <td>0.456667</td>\n",
       "      <td>0.733333</td>\n",
       "      <td>0.401826</td>\n",
       "      <td>0.519174</td>\n",
       "      <td>0.503382</td>\n",
       "      <td>0.006765</td>\n",
       "    </tr>\n",
       "    <tr>\n",
       "      <td>17</td>\n",
       "      <td>Cost-Sensitive Random Forest</td>\n",
       "      <td>0.670000</td>\n",
       "      <td>0.840909</td>\n",
       "      <td>0.675799</td>\n",
       "      <td>0.749367</td>\n",
       "      <td>0.665060</td>\n",
       "      <td>0.330120</td>\n",
       "    </tr>\n",
       "    <tr>\n",
       "      <td>18</td>\n",
       "      <td>Cost-Sensitive Decision Tree</td>\n",
       "      <td>0.693333</td>\n",
       "      <td>0.867052</td>\n",
       "      <td>0.684932</td>\n",
       "      <td>0.765306</td>\n",
       "      <td>0.700490</td>\n",
       "      <td>0.400981</td>\n",
       "    </tr>\n",
       "  </tbody>\n",
       "</table>\n",
       "</div>"
      ],
      "text/plain": [
       "                                Method  Accuracy  Precision    Recall  \\\n",
       "0                  Logistic Regression  0.786667   0.841410  0.872146   \n",
       "1                        Random Forest  0.766667   0.809129  0.890411   \n",
       "2                        Decision Tree  0.710000   0.817308  0.776256   \n",
       "3                                  SVM  0.800000   0.824490  0.922374   \n",
       "4                   Bagging Classifier  0.693333   0.806763  0.762557   \n",
       "5                             AdaBoost  0.773333   0.832599  0.863014   \n",
       "6                    Gradient Boosting  0.770000   0.820513  0.876712   \n",
       "7               Voting Classifier_soft  0.790000   0.825000  0.904110   \n",
       "8               Voting Classifier_hard  0.800000   0.821862  0.926941   \n",
       "9               Logistic Regression GS  0.803333   0.833333  0.913242   \n",
       "10                    Random Forest GS  0.763333   0.836364  0.840183   \n",
       "11                    Decision Tree GS  0.703333   0.738971  0.917808   \n",
       "12                              SVM GS  0.783333   0.834783  0.876712   \n",
       "13  Cost-Sensitive Logistic Regression  0.310000   0.875000  0.063927   \n",
       "14        Cost-Sensitive Random Forest  0.270000   0.000000  0.000000   \n",
       "15        Cost-Sensitive Decision Tree  0.596667   0.865672  0.529680   \n",
       "16  Cost-Sensitive Logistic Regression  0.456667   0.733333  0.401826   \n",
       "17        Cost-Sensitive Random Forest  0.670000   0.840909  0.675799   \n",
       "18        Cost-Sensitive Decision Tree  0.693333   0.867052  0.684932   \n",
       "\n",
       "          F1       AUC      Gini  \n",
       "0   0.856502  0.713851  0.427702  \n",
       "1   0.847826  0.661255  0.322510  \n",
       "2   0.796253  0.653560  0.307120  \n",
       "3   0.870690  0.695755  0.391510  \n",
       "4   0.784038  0.634365  0.268730  \n",
       "5   0.847534  0.696939  0.393878  \n",
       "6   0.847682  0.679097  0.358194  \n",
       "7   0.862745  0.692796  0.385591  \n",
       "8   0.871245  0.691865  0.383731  \n",
       "9   0.871460  0.709707  0.419415  \n",
       "10  0.838269  0.697869  0.395738  \n",
       "11  0.818737  0.520633  0.041265  \n",
       "12  0.855234  0.703788  0.407577  \n",
       "13  0.119149  0.519618  0.039236  \n",
       "14  0.000000  0.500000  0.000000  \n",
       "15  0.657224  0.653729  0.307458  \n",
       "16  0.519174  0.503382  0.006765  \n",
       "17  0.749367  0.665060  0.330120  \n",
       "18  0.765306  0.700490  0.400981  "
      ]
     },
     "execution_count": 36,
     "metadata": {},
     "output_type": "execute_result"
    }
   ],
   "source": [
    "fit_classifier2(algorithm_list, X_train, X_test, y_train, y_test, cost_mat_train)"
   ]
  },
  {
   "cell_type": "markdown",
   "metadata": {},
   "source": [
    "As it was expected the scores are a bit better than previously. Nevertheless, **Cost-Sensitive Classfiers** did not yield sufficient prediction scores."
   ]
  },
  {
   "cell_type": "markdown",
   "metadata": {},
   "source": [
    "### 4.5. Undersampling"
   ]
  },
  {
   "cell_type": "markdown",
   "metadata": {},
   "source": [
    "Undersampling method reduce the number of observations in majority class and it is one of the method for imbalanced dataset."
   ]
  },
  {
   "cell_type": "code",
   "execution_count": 37,
   "metadata": {},
   "outputs": [],
   "source": [
    "from sklearn.utils import resample\n",
    "from collections import Counter"
   ]
  },
  {
   "cell_type": "code",
   "execution_count": 38,
   "metadata": {},
   "outputs": [
    {
     "name": "stdout",
     "output_type": "stream",
     "text": [
      "Counter({1: 481, 0: 219})\n"
     ]
    }
   ],
   "source": [
    "counter = Counter(y_train)\n",
    "print(counter)"
   ]
  },
  {
   "cell_type": "markdown",
   "metadata": {},
   "source": [
    "We may notice that in the training set there are **219** bad customers and above twice more good customers, **418**. Therefore the group of good customers will be undersampled."
   ]
  },
  {
   "cell_type": "code",
   "execution_count": 39,
   "metadata": {},
   "outputs": [],
   "source": [
    "undersample = resample(X_train[y_train == 1], n_samples = len (y_train[y_train == 0]))"
   ]
  },
  {
   "cell_type": "markdown",
   "metadata": {},
   "source": [
    "We randomly select 219 observation from class 1 (as there are 219 observations in class 0)."
   ]
  },
  {
   "cell_type": "code",
   "execution_count": 40,
   "metadata": {},
   "outputs": [
    {
     "data": {
      "text/plain": [
       "(219, 71)"
      ]
     },
     "execution_count": 40,
     "metadata": {},
     "output_type": "execute_result"
    }
   ],
   "source": [
    "undersample.shape"
   ]
  },
  {
   "cell_type": "code",
   "execution_count": 41,
   "metadata": {},
   "outputs": [
    {
     "data": {
      "text/plain": [
       "(219, 71)"
      ]
     },
     "execution_count": 41,
     "metadata": {},
     "output_type": "execute_result"
    }
   ],
   "source": [
    "X_train[y_train==0].shape"
   ]
  },
  {
   "cell_type": "code",
   "execution_count": 42,
   "metadata": {},
   "outputs": [],
   "source": [
    "X_train_under = np.concatenate((undersample, X_train[y_train == 0]))"
   ]
  },
  {
   "cell_type": "code",
   "execution_count": 43,
   "metadata": {},
   "outputs": [
    {
     "data": {
      "text/plain": [
       "(438, 71)"
      ]
     },
     "execution_count": 43,
     "metadata": {},
     "output_type": "execute_result"
    }
   ],
   "source": [
    "X_train_under.shape"
   ]
  },
  {
   "cell_type": "code",
   "execution_count": 44,
   "metadata": {},
   "outputs": [],
   "source": [
    "y_train_under = np.append(np.ones(len(y_train[y_train == 0])), np.zeros(len(y_train[y_train == 0]))) "
   ]
  },
  {
   "cell_type": "code",
   "execution_count": 45,
   "metadata": {},
   "outputs": [],
   "source": [
    "algorithm_list ={'Logistic Regression US': LogisticRegression(), \n",
    "                  'Random Forest US': RandomForestClassifier(), \n",
    "                  'Decision Tree US': DecisionTreeClassifier(),\n",
    "                  'SVM US': SVC(probability = True)}"
   ]
  },
  {
   "cell_type": "code",
   "execution_count": 46,
   "metadata": {},
   "outputs": [
    {
     "data": {
      "text/html": [
       "<div>\n",
       "<style scoped>\n",
       "    .dataframe tbody tr th:only-of-type {\n",
       "        vertical-align: middle;\n",
       "    }\n",
       "\n",
       "    .dataframe tbody tr th {\n",
       "        vertical-align: top;\n",
       "    }\n",
       "\n",
       "    .dataframe thead th {\n",
       "        text-align: right;\n",
       "    }\n",
       "</style>\n",
       "<table border=\"1\" class=\"dataframe\">\n",
       "  <thead>\n",
       "    <tr style=\"text-align: right;\">\n",
       "      <th></th>\n",
       "      <th>Method</th>\n",
       "      <th>Accuracy</th>\n",
       "      <th>Precision</th>\n",
       "      <th>Recall</th>\n",
       "      <th>F1</th>\n",
       "      <th>AUC</th>\n",
       "      <th>Gini</th>\n",
       "    </tr>\n",
       "  </thead>\n",
       "  <tbody>\n",
       "    <tr>\n",
       "      <td>0</td>\n",
       "      <td>Logistic Regression</td>\n",
       "      <td>0.786667</td>\n",
       "      <td>0.841410</td>\n",
       "      <td>0.872146</td>\n",
       "      <td>0.856502</td>\n",
       "      <td>0.713851</td>\n",
       "      <td>0.427702</td>\n",
       "    </tr>\n",
       "    <tr>\n",
       "      <td>1</td>\n",
       "      <td>Random Forest</td>\n",
       "      <td>0.766667</td>\n",
       "      <td>0.809129</td>\n",
       "      <td>0.890411</td>\n",
       "      <td>0.847826</td>\n",
       "      <td>0.661255</td>\n",
       "      <td>0.322510</td>\n",
       "    </tr>\n",
       "    <tr>\n",
       "      <td>2</td>\n",
       "      <td>Decision Tree</td>\n",
       "      <td>0.710000</td>\n",
       "      <td>0.817308</td>\n",
       "      <td>0.776256</td>\n",
       "      <td>0.796253</td>\n",
       "      <td>0.653560</td>\n",
       "      <td>0.307120</td>\n",
       "    </tr>\n",
       "    <tr>\n",
       "      <td>3</td>\n",
       "      <td>SVM</td>\n",
       "      <td>0.800000</td>\n",
       "      <td>0.824490</td>\n",
       "      <td>0.922374</td>\n",
       "      <td>0.870690</td>\n",
       "      <td>0.695755</td>\n",
       "      <td>0.391510</td>\n",
       "    </tr>\n",
       "    <tr>\n",
       "      <td>4</td>\n",
       "      <td>Bagging Classifier</td>\n",
       "      <td>0.693333</td>\n",
       "      <td>0.806763</td>\n",
       "      <td>0.762557</td>\n",
       "      <td>0.784038</td>\n",
       "      <td>0.634365</td>\n",
       "      <td>0.268730</td>\n",
       "    </tr>\n",
       "    <tr>\n",
       "      <td>5</td>\n",
       "      <td>AdaBoost</td>\n",
       "      <td>0.773333</td>\n",
       "      <td>0.832599</td>\n",
       "      <td>0.863014</td>\n",
       "      <td>0.847534</td>\n",
       "      <td>0.696939</td>\n",
       "      <td>0.393878</td>\n",
       "    </tr>\n",
       "    <tr>\n",
       "      <td>6</td>\n",
       "      <td>Gradient Boosting</td>\n",
       "      <td>0.770000</td>\n",
       "      <td>0.820513</td>\n",
       "      <td>0.876712</td>\n",
       "      <td>0.847682</td>\n",
       "      <td>0.679097</td>\n",
       "      <td>0.358194</td>\n",
       "    </tr>\n",
       "    <tr>\n",
       "      <td>7</td>\n",
       "      <td>Voting Classifier_soft</td>\n",
       "      <td>0.790000</td>\n",
       "      <td>0.825000</td>\n",
       "      <td>0.904110</td>\n",
       "      <td>0.862745</td>\n",
       "      <td>0.692796</td>\n",
       "      <td>0.385591</td>\n",
       "    </tr>\n",
       "    <tr>\n",
       "      <td>8</td>\n",
       "      <td>Voting Classifier_hard</td>\n",
       "      <td>0.800000</td>\n",
       "      <td>0.821862</td>\n",
       "      <td>0.926941</td>\n",
       "      <td>0.871245</td>\n",
       "      <td>0.691865</td>\n",
       "      <td>0.383731</td>\n",
       "    </tr>\n",
       "    <tr>\n",
       "      <td>9</td>\n",
       "      <td>Logistic Regression GS</td>\n",
       "      <td>0.803333</td>\n",
       "      <td>0.833333</td>\n",
       "      <td>0.913242</td>\n",
       "      <td>0.871460</td>\n",
       "      <td>0.709707</td>\n",
       "      <td>0.419415</td>\n",
       "    </tr>\n",
       "    <tr>\n",
       "      <td>10</td>\n",
       "      <td>Random Forest GS</td>\n",
       "      <td>0.763333</td>\n",
       "      <td>0.836364</td>\n",
       "      <td>0.840183</td>\n",
       "      <td>0.838269</td>\n",
       "      <td>0.697869</td>\n",
       "      <td>0.395738</td>\n",
       "    </tr>\n",
       "    <tr>\n",
       "      <td>11</td>\n",
       "      <td>Decision Tree GS</td>\n",
       "      <td>0.703333</td>\n",
       "      <td>0.738971</td>\n",
       "      <td>0.917808</td>\n",
       "      <td>0.818737</td>\n",
       "      <td>0.520633</td>\n",
       "      <td>0.041265</td>\n",
       "    </tr>\n",
       "    <tr>\n",
       "      <td>12</td>\n",
       "      <td>SVM GS</td>\n",
       "      <td>0.783333</td>\n",
       "      <td>0.834783</td>\n",
       "      <td>0.876712</td>\n",
       "      <td>0.855234</td>\n",
       "      <td>0.703788</td>\n",
       "      <td>0.407577</td>\n",
       "    </tr>\n",
       "    <tr>\n",
       "      <td>13</td>\n",
       "      <td>Cost-Sensitive Logistic Regression</td>\n",
       "      <td>0.310000</td>\n",
       "      <td>0.875000</td>\n",
       "      <td>0.063927</td>\n",
       "      <td>0.119149</td>\n",
       "      <td>0.519618</td>\n",
       "      <td>0.039236</td>\n",
       "    </tr>\n",
       "    <tr>\n",
       "      <td>14</td>\n",
       "      <td>Cost-Sensitive Random Forest</td>\n",
       "      <td>0.270000</td>\n",
       "      <td>0.000000</td>\n",
       "      <td>0.000000</td>\n",
       "      <td>0.000000</td>\n",
       "      <td>0.500000</td>\n",
       "      <td>0.000000</td>\n",
       "    </tr>\n",
       "    <tr>\n",
       "      <td>15</td>\n",
       "      <td>Cost-Sensitive Decision Tree</td>\n",
       "      <td>0.596667</td>\n",
       "      <td>0.865672</td>\n",
       "      <td>0.529680</td>\n",
       "      <td>0.657224</td>\n",
       "      <td>0.653729</td>\n",
       "      <td>0.307458</td>\n",
       "    </tr>\n",
       "    <tr>\n",
       "      <td>16</td>\n",
       "      <td>Cost-Sensitive Logistic Regression</td>\n",
       "      <td>0.456667</td>\n",
       "      <td>0.733333</td>\n",
       "      <td>0.401826</td>\n",
       "      <td>0.519174</td>\n",
       "      <td>0.503382</td>\n",
       "      <td>0.006765</td>\n",
       "    </tr>\n",
       "    <tr>\n",
       "      <td>17</td>\n",
       "      <td>Cost-Sensitive Random Forest</td>\n",
       "      <td>0.670000</td>\n",
       "      <td>0.840909</td>\n",
       "      <td>0.675799</td>\n",
       "      <td>0.749367</td>\n",
       "      <td>0.665060</td>\n",
       "      <td>0.330120</td>\n",
       "    </tr>\n",
       "    <tr>\n",
       "      <td>18</td>\n",
       "      <td>Cost-Sensitive Decision Tree</td>\n",
       "      <td>0.693333</td>\n",
       "      <td>0.867052</td>\n",
       "      <td>0.684932</td>\n",
       "      <td>0.765306</td>\n",
       "      <td>0.700490</td>\n",
       "      <td>0.400981</td>\n",
       "    </tr>\n",
       "    <tr>\n",
       "      <td>19</td>\n",
       "      <td>Logistic Regression US</td>\n",
       "      <td>0.736667</td>\n",
       "      <td>0.884615</td>\n",
       "      <td>0.735160</td>\n",
       "      <td>0.802993</td>\n",
       "      <td>0.737950</td>\n",
       "      <td>0.475901</td>\n",
       "    </tr>\n",
       "    <tr>\n",
       "      <td>20</td>\n",
       "      <td>Random Forest US</td>\n",
       "      <td>0.706667</td>\n",
       "      <td>0.896970</td>\n",
       "      <td>0.675799</td>\n",
       "      <td>0.770833</td>\n",
       "      <td>0.732961</td>\n",
       "      <td>0.465923</td>\n",
       "    </tr>\n",
       "    <tr>\n",
       "      <td>21</td>\n",
       "      <td>Decision Tree US</td>\n",
       "      <td>0.640000</td>\n",
       "      <td>0.828402</td>\n",
       "      <td>0.639269</td>\n",
       "      <td>0.721649</td>\n",
       "      <td>0.640622</td>\n",
       "      <td>0.281245</td>\n",
       "    </tr>\n",
       "    <tr>\n",
       "      <td>22</td>\n",
       "      <td>SVM US</td>\n",
       "      <td>0.733333</td>\n",
       "      <td>0.897143</td>\n",
       "      <td>0.716895</td>\n",
       "      <td>0.796954</td>\n",
       "      <td>0.747336</td>\n",
       "      <td>0.494673</td>\n",
       "    </tr>\n",
       "  </tbody>\n",
       "</table>\n",
       "</div>"
      ],
      "text/plain": [
       "                                Method  Accuracy  Precision    Recall  \\\n",
       "0                  Logistic Regression  0.786667   0.841410  0.872146   \n",
       "1                        Random Forest  0.766667   0.809129  0.890411   \n",
       "2                        Decision Tree  0.710000   0.817308  0.776256   \n",
       "3                                  SVM  0.800000   0.824490  0.922374   \n",
       "4                   Bagging Classifier  0.693333   0.806763  0.762557   \n",
       "5                             AdaBoost  0.773333   0.832599  0.863014   \n",
       "6                    Gradient Boosting  0.770000   0.820513  0.876712   \n",
       "7               Voting Classifier_soft  0.790000   0.825000  0.904110   \n",
       "8               Voting Classifier_hard  0.800000   0.821862  0.926941   \n",
       "9               Logistic Regression GS  0.803333   0.833333  0.913242   \n",
       "10                    Random Forest GS  0.763333   0.836364  0.840183   \n",
       "11                    Decision Tree GS  0.703333   0.738971  0.917808   \n",
       "12                              SVM GS  0.783333   0.834783  0.876712   \n",
       "13  Cost-Sensitive Logistic Regression  0.310000   0.875000  0.063927   \n",
       "14        Cost-Sensitive Random Forest  0.270000   0.000000  0.000000   \n",
       "15        Cost-Sensitive Decision Tree  0.596667   0.865672  0.529680   \n",
       "16  Cost-Sensitive Logistic Regression  0.456667   0.733333  0.401826   \n",
       "17        Cost-Sensitive Random Forest  0.670000   0.840909  0.675799   \n",
       "18        Cost-Sensitive Decision Tree  0.693333   0.867052  0.684932   \n",
       "19              Logistic Regression US  0.736667   0.884615  0.735160   \n",
       "20                    Random Forest US  0.706667   0.896970  0.675799   \n",
       "21                    Decision Tree US  0.640000   0.828402  0.639269   \n",
       "22                              SVM US  0.733333   0.897143  0.716895   \n",
       "\n",
       "          F1       AUC      Gini  \n",
       "0   0.856502  0.713851  0.427702  \n",
       "1   0.847826  0.661255  0.322510  \n",
       "2   0.796253  0.653560  0.307120  \n",
       "3   0.870690  0.695755  0.391510  \n",
       "4   0.784038  0.634365  0.268730  \n",
       "5   0.847534  0.696939  0.393878  \n",
       "6   0.847682  0.679097  0.358194  \n",
       "7   0.862745  0.692796  0.385591  \n",
       "8   0.871245  0.691865  0.383731  \n",
       "9   0.871460  0.709707  0.419415  \n",
       "10  0.838269  0.697869  0.395738  \n",
       "11  0.818737  0.520633  0.041265  \n",
       "12  0.855234  0.703788  0.407577  \n",
       "13  0.119149  0.519618  0.039236  \n",
       "14  0.000000  0.500000  0.000000  \n",
       "15  0.657224  0.653729  0.307458  \n",
       "16  0.519174  0.503382  0.006765  \n",
       "17  0.749367  0.665060  0.330120  \n",
       "18  0.765306  0.700490  0.400981  \n",
       "19  0.802993  0.737950  0.475901  \n",
       "20  0.770833  0.732961  0.465923  \n",
       "21  0.721649  0.640622  0.281245  \n",
       "22  0.796954  0.747336  0.494673  "
      ]
     },
     "execution_count": 46,
     "metadata": {},
     "output_type": "execute_result"
    }
   ],
   "source": [
    "fit_classifier(algorithm_list, X_train_under, X_test, y_train_under, y_test)"
   ]
  },
  {
   "cell_type": "markdown",
   "metadata": {},
   "source": [
    "The scores obtained by undersampling the majority class imporved the Gini Coeffiecient for all of the algorithms except of Decision Tree."
   ]
  },
  {
   "cell_type": "markdown",
   "metadata": {},
   "source": [
    "#### 4.5.1 Undersampling algorithms"
   ]
  },
  {
   "cell_type": "markdown",
   "metadata": {},
   "source": [
    "We will implement two classifiers that randomply under-sample the data."
   ]
  },
  {
   "cell_type": "code",
   "execution_count": 47,
   "metadata": {},
   "outputs": [
    {
     "name": "stderr",
     "output_type": "stream",
     "text": [
      "Using TensorFlow backend.\n"
     ]
    }
   ],
   "source": [
    "from imblearn.ensemble import BalancedRandomForestClassifier\n",
    "from imblearn.ensemble import EasyEnsembleClassifier"
   ]
  },
  {
   "cell_type": "code",
   "execution_count": 48,
   "metadata": {},
   "outputs": [],
   "source": [
    "algorithm_list ={'Balanced Random Forest': BalancedRandomForestClassifier(),\n",
    "                'Easy Ensamble': EasyEnsembleClassifier(n_estimators=10)}"
   ]
  },
  {
   "cell_type": "code",
   "execution_count": 49,
   "metadata": {},
   "outputs": [
    {
     "data": {
      "text/html": [
       "<div>\n",
       "<style scoped>\n",
       "    .dataframe tbody tr th:only-of-type {\n",
       "        vertical-align: middle;\n",
       "    }\n",
       "\n",
       "    .dataframe tbody tr th {\n",
       "        vertical-align: top;\n",
       "    }\n",
       "\n",
       "    .dataframe thead th {\n",
       "        text-align: right;\n",
       "    }\n",
       "</style>\n",
       "<table border=\"1\" class=\"dataframe\">\n",
       "  <thead>\n",
       "    <tr style=\"text-align: right;\">\n",
       "      <th></th>\n",
       "      <th>Method</th>\n",
       "      <th>Accuracy</th>\n",
       "      <th>Precision</th>\n",
       "      <th>Recall</th>\n",
       "      <th>F1</th>\n",
       "      <th>AUC</th>\n",
       "      <th>Gini</th>\n",
       "    </tr>\n",
       "  </thead>\n",
       "  <tbody>\n",
       "    <tr>\n",
       "      <td>0</td>\n",
       "      <td>Logistic Regression</td>\n",
       "      <td>0.786667</td>\n",
       "      <td>0.841410</td>\n",
       "      <td>0.872146</td>\n",
       "      <td>0.856502</td>\n",
       "      <td>0.713851</td>\n",
       "      <td>0.427702</td>\n",
       "    </tr>\n",
       "    <tr>\n",
       "      <td>1</td>\n",
       "      <td>Random Forest</td>\n",
       "      <td>0.766667</td>\n",
       "      <td>0.809129</td>\n",
       "      <td>0.890411</td>\n",
       "      <td>0.847826</td>\n",
       "      <td>0.661255</td>\n",
       "      <td>0.322510</td>\n",
       "    </tr>\n",
       "    <tr>\n",
       "      <td>2</td>\n",
       "      <td>Decision Tree</td>\n",
       "      <td>0.710000</td>\n",
       "      <td>0.817308</td>\n",
       "      <td>0.776256</td>\n",
       "      <td>0.796253</td>\n",
       "      <td>0.653560</td>\n",
       "      <td>0.307120</td>\n",
       "    </tr>\n",
       "    <tr>\n",
       "      <td>3</td>\n",
       "      <td>SVM</td>\n",
       "      <td>0.800000</td>\n",
       "      <td>0.824490</td>\n",
       "      <td>0.922374</td>\n",
       "      <td>0.870690</td>\n",
       "      <td>0.695755</td>\n",
       "      <td>0.391510</td>\n",
       "    </tr>\n",
       "    <tr>\n",
       "      <td>4</td>\n",
       "      <td>Bagging Classifier</td>\n",
       "      <td>0.693333</td>\n",
       "      <td>0.806763</td>\n",
       "      <td>0.762557</td>\n",
       "      <td>0.784038</td>\n",
       "      <td>0.634365</td>\n",
       "      <td>0.268730</td>\n",
       "    </tr>\n",
       "    <tr>\n",
       "      <td>5</td>\n",
       "      <td>AdaBoost</td>\n",
       "      <td>0.773333</td>\n",
       "      <td>0.832599</td>\n",
       "      <td>0.863014</td>\n",
       "      <td>0.847534</td>\n",
       "      <td>0.696939</td>\n",
       "      <td>0.393878</td>\n",
       "    </tr>\n",
       "    <tr>\n",
       "      <td>6</td>\n",
       "      <td>Gradient Boosting</td>\n",
       "      <td>0.770000</td>\n",
       "      <td>0.820513</td>\n",
       "      <td>0.876712</td>\n",
       "      <td>0.847682</td>\n",
       "      <td>0.679097</td>\n",
       "      <td>0.358194</td>\n",
       "    </tr>\n",
       "    <tr>\n",
       "      <td>7</td>\n",
       "      <td>Voting Classifier_soft</td>\n",
       "      <td>0.790000</td>\n",
       "      <td>0.825000</td>\n",
       "      <td>0.904110</td>\n",
       "      <td>0.862745</td>\n",
       "      <td>0.692796</td>\n",
       "      <td>0.385591</td>\n",
       "    </tr>\n",
       "    <tr>\n",
       "      <td>8</td>\n",
       "      <td>Voting Classifier_hard</td>\n",
       "      <td>0.800000</td>\n",
       "      <td>0.821862</td>\n",
       "      <td>0.926941</td>\n",
       "      <td>0.871245</td>\n",
       "      <td>0.691865</td>\n",
       "      <td>0.383731</td>\n",
       "    </tr>\n",
       "    <tr>\n",
       "      <td>9</td>\n",
       "      <td>Logistic Regression GS</td>\n",
       "      <td>0.803333</td>\n",
       "      <td>0.833333</td>\n",
       "      <td>0.913242</td>\n",
       "      <td>0.871460</td>\n",
       "      <td>0.709707</td>\n",
       "      <td>0.419415</td>\n",
       "    </tr>\n",
       "    <tr>\n",
       "      <td>10</td>\n",
       "      <td>Random Forest GS</td>\n",
       "      <td>0.763333</td>\n",
       "      <td>0.836364</td>\n",
       "      <td>0.840183</td>\n",
       "      <td>0.838269</td>\n",
       "      <td>0.697869</td>\n",
       "      <td>0.395738</td>\n",
       "    </tr>\n",
       "    <tr>\n",
       "      <td>11</td>\n",
       "      <td>Decision Tree GS</td>\n",
       "      <td>0.703333</td>\n",
       "      <td>0.738971</td>\n",
       "      <td>0.917808</td>\n",
       "      <td>0.818737</td>\n",
       "      <td>0.520633</td>\n",
       "      <td>0.041265</td>\n",
       "    </tr>\n",
       "    <tr>\n",
       "      <td>12</td>\n",
       "      <td>SVM GS</td>\n",
       "      <td>0.783333</td>\n",
       "      <td>0.834783</td>\n",
       "      <td>0.876712</td>\n",
       "      <td>0.855234</td>\n",
       "      <td>0.703788</td>\n",
       "      <td>0.407577</td>\n",
       "    </tr>\n",
       "    <tr>\n",
       "      <td>13</td>\n",
       "      <td>Cost-Sensitive Logistic Regression</td>\n",
       "      <td>0.310000</td>\n",
       "      <td>0.875000</td>\n",
       "      <td>0.063927</td>\n",
       "      <td>0.119149</td>\n",
       "      <td>0.519618</td>\n",
       "      <td>0.039236</td>\n",
       "    </tr>\n",
       "    <tr>\n",
       "      <td>14</td>\n",
       "      <td>Cost-Sensitive Random Forest</td>\n",
       "      <td>0.270000</td>\n",
       "      <td>0.000000</td>\n",
       "      <td>0.000000</td>\n",
       "      <td>0.000000</td>\n",
       "      <td>0.500000</td>\n",
       "      <td>0.000000</td>\n",
       "    </tr>\n",
       "    <tr>\n",
       "      <td>15</td>\n",
       "      <td>Cost-Sensitive Decision Tree</td>\n",
       "      <td>0.596667</td>\n",
       "      <td>0.865672</td>\n",
       "      <td>0.529680</td>\n",
       "      <td>0.657224</td>\n",
       "      <td>0.653729</td>\n",
       "      <td>0.307458</td>\n",
       "    </tr>\n",
       "    <tr>\n",
       "      <td>16</td>\n",
       "      <td>Cost-Sensitive Logistic Regression</td>\n",
       "      <td>0.456667</td>\n",
       "      <td>0.733333</td>\n",
       "      <td>0.401826</td>\n",
       "      <td>0.519174</td>\n",
       "      <td>0.503382</td>\n",
       "      <td>0.006765</td>\n",
       "    </tr>\n",
       "    <tr>\n",
       "      <td>17</td>\n",
       "      <td>Cost-Sensitive Random Forest</td>\n",
       "      <td>0.670000</td>\n",
       "      <td>0.840909</td>\n",
       "      <td>0.675799</td>\n",
       "      <td>0.749367</td>\n",
       "      <td>0.665060</td>\n",
       "      <td>0.330120</td>\n",
       "    </tr>\n",
       "    <tr>\n",
       "      <td>18</td>\n",
       "      <td>Cost-Sensitive Decision Tree</td>\n",
       "      <td>0.693333</td>\n",
       "      <td>0.867052</td>\n",
       "      <td>0.684932</td>\n",
       "      <td>0.765306</td>\n",
       "      <td>0.700490</td>\n",
       "      <td>0.400981</td>\n",
       "    </tr>\n",
       "    <tr>\n",
       "      <td>19</td>\n",
       "      <td>Logistic Regression US</td>\n",
       "      <td>0.736667</td>\n",
       "      <td>0.884615</td>\n",
       "      <td>0.735160</td>\n",
       "      <td>0.802993</td>\n",
       "      <td>0.737950</td>\n",
       "      <td>0.475901</td>\n",
       "    </tr>\n",
       "    <tr>\n",
       "      <td>20</td>\n",
       "      <td>Random Forest US</td>\n",
       "      <td>0.706667</td>\n",
       "      <td>0.896970</td>\n",
       "      <td>0.675799</td>\n",
       "      <td>0.770833</td>\n",
       "      <td>0.732961</td>\n",
       "      <td>0.465923</td>\n",
       "    </tr>\n",
       "    <tr>\n",
       "      <td>21</td>\n",
       "      <td>Decision Tree US</td>\n",
       "      <td>0.640000</td>\n",
       "      <td>0.828402</td>\n",
       "      <td>0.639269</td>\n",
       "      <td>0.721649</td>\n",
       "      <td>0.640622</td>\n",
       "      <td>0.281245</td>\n",
       "    </tr>\n",
       "    <tr>\n",
       "      <td>22</td>\n",
       "      <td>SVM US</td>\n",
       "      <td>0.733333</td>\n",
       "      <td>0.897143</td>\n",
       "      <td>0.716895</td>\n",
       "      <td>0.796954</td>\n",
       "      <td>0.747336</td>\n",
       "      <td>0.494673</td>\n",
       "    </tr>\n",
       "    <tr>\n",
       "      <td>23</td>\n",
       "      <td>Balanced Random Forest</td>\n",
       "      <td>0.726667</td>\n",
       "      <td>0.882682</td>\n",
       "      <td>0.721461</td>\n",
       "      <td>0.793970</td>\n",
       "      <td>0.731101</td>\n",
       "      <td>0.462202</td>\n",
       "    </tr>\n",
       "    <tr>\n",
       "      <td>24</td>\n",
       "      <td>Easy Ensamble</td>\n",
       "      <td>0.743333</td>\n",
       "      <td>0.885870</td>\n",
       "      <td>0.744292</td>\n",
       "      <td>0.808933</td>\n",
       "      <td>0.742516</td>\n",
       "      <td>0.485033</td>\n",
       "    </tr>\n",
       "  </tbody>\n",
       "</table>\n",
       "</div>"
      ],
      "text/plain": [
       "                                Method  Accuracy  Precision    Recall  \\\n",
       "0                  Logistic Regression  0.786667   0.841410  0.872146   \n",
       "1                        Random Forest  0.766667   0.809129  0.890411   \n",
       "2                        Decision Tree  0.710000   0.817308  0.776256   \n",
       "3                                  SVM  0.800000   0.824490  0.922374   \n",
       "4                   Bagging Classifier  0.693333   0.806763  0.762557   \n",
       "5                             AdaBoost  0.773333   0.832599  0.863014   \n",
       "6                    Gradient Boosting  0.770000   0.820513  0.876712   \n",
       "7               Voting Classifier_soft  0.790000   0.825000  0.904110   \n",
       "8               Voting Classifier_hard  0.800000   0.821862  0.926941   \n",
       "9               Logistic Regression GS  0.803333   0.833333  0.913242   \n",
       "10                    Random Forest GS  0.763333   0.836364  0.840183   \n",
       "11                    Decision Tree GS  0.703333   0.738971  0.917808   \n",
       "12                              SVM GS  0.783333   0.834783  0.876712   \n",
       "13  Cost-Sensitive Logistic Regression  0.310000   0.875000  0.063927   \n",
       "14        Cost-Sensitive Random Forest  0.270000   0.000000  0.000000   \n",
       "15        Cost-Sensitive Decision Tree  0.596667   0.865672  0.529680   \n",
       "16  Cost-Sensitive Logistic Regression  0.456667   0.733333  0.401826   \n",
       "17        Cost-Sensitive Random Forest  0.670000   0.840909  0.675799   \n",
       "18        Cost-Sensitive Decision Tree  0.693333   0.867052  0.684932   \n",
       "19              Logistic Regression US  0.736667   0.884615  0.735160   \n",
       "20                    Random Forest US  0.706667   0.896970  0.675799   \n",
       "21                    Decision Tree US  0.640000   0.828402  0.639269   \n",
       "22                              SVM US  0.733333   0.897143  0.716895   \n",
       "23              Balanced Random Forest  0.726667   0.882682  0.721461   \n",
       "24                       Easy Ensamble  0.743333   0.885870  0.744292   \n",
       "\n",
       "          F1       AUC      Gini  \n",
       "0   0.856502  0.713851  0.427702  \n",
       "1   0.847826  0.661255  0.322510  \n",
       "2   0.796253  0.653560  0.307120  \n",
       "3   0.870690  0.695755  0.391510  \n",
       "4   0.784038  0.634365  0.268730  \n",
       "5   0.847534  0.696939  0.393878  \n",
       "6   0.847682  0.679097  0.358194  \n",
       "7   0.862745  0.692796  0.385591  \n",
       "8   0.871245  0.691865  0.383731  \n",
       "9   0.871460  0.709707  0.419415  \n",
       "10  0.838269  0.697869  0.395738  \n",
       "11  0.818737  0.520633  0.041265  \n",
       "12  0.855234  0.703788  0.407577  \n",
       "13  0.119149  0.519618  0.039236  \n",
       "14  0.000000  0.500000  0.000000  \n",
       "15  0.657224  0.653729  0.307458  \n",
       "16  0.519174  0.503382  0.006765  \n",
       "17  0.749367  0.665060  0.330120  \n",
       "18  0.765306  0.700490  0.400981  \n",
       "19  0.802993  0.737950  0.475901  \n",
       "20  0.770833  0.732961  0.465923  \n",
       "21  0.721649  0.640622  0.281245  \n",
       "22  0.796954  0.747336  0.494673  \n",
       "23  0.793970  0.731101  0.462202  \n",
       "24  0.808933  0.742516  0.485033  "
      ]
     },
     "execution_count": 49,
     "metadata": {},
     "output_type": "execute_result"
    }
   ],
   "source": [
    "fit_classifier(algorithm_list, X_train, X_test, y_train, y_test)"
   ]
  },
  {
   "cell_type": "markdown",
   "metadata": {},
   "source": [
    "Neither **Balance Random Forest** nor **Easy Ensamble** has resulted in higher Gini Coefficient score than **SVM** with undersampled technique implemented. However, it is worth to mention that these algorithms generated really competitive scores."
   ]
  },
  {
   "cell_type": "markdown",
   "metadata": {},
   "source": [
    "### 4.6 SMOTE - Oversampling technique"
   ]
  },
  {
   "cell_type": "markdown",
   "metadata": {},
   "source": [
    "In this method instead of reducing the number of the instances in majority class, we will create additional instances for the minority class."
   ]
  },
  {
   "cell_type": "code",
   "execution_count": 50,
   "metadata": {},
   "outputs": [],
   "source": [
    "from imblearn.over_sampling import SMOTE\n",
    "from numpy import where\n",
    "from matplotlib import pyplot"
   ]
  },
  {
   "cell_type": "code",
   "execution_count": 51,
   "metadata": {},
   "outputs": [
    {
     "name": "stdout",
     "output_type": "stream",
     "text": [
      "Counter({1: 481, 0: 219})\n"
     ]
    }
   ],
   "source": [
    "counter = Counter(y_train)\n",
    "print(counter)"
   ]
  },
  {
   "cell_type": "code",
   "execution_count": 52,
   "metadata": {},
   "outputs": [
    {
     "data": {
      "image/png": "[encoded data removed]",
      "text/plain": [
       "<Figure size 432x288 with 1 Axes>"
      ]
     },
     "metadata": {
      "needs_background": "light"
     },
     "output_type": "display_data"
    }
   ],
   "source": [
    "for label, _ in counter.items():\n",
    "    row_ix = where(y_train == label)[0]\n",
    "    pyplot.scatter(X_train[row_ix, 0], X_train[row_ix, 1], label=str(label))\n",
    "pyplot.legend()\n",
    "pyplot.show()"
   ]
  },
  {
   "cell_type": "code",
   "execution_count": 53,
   "metadata": {},
   "outputs": [],
   "source": [
    "oversample = SMOTE()\n",
    "X_train_smote, y_train_smote = oversample.fit_resample(X_train, y_train)"
   ]
  },
  {
   "cell_type": "code",
   "execution_count": 54,
   "metadata": {},
   "outputs": [
    {
     "name": "stdout",
     "output_type": "stream",
     "text": [
      "Counter({1: 481, 0: 481})\n"
     ]
    }
   ],
   "source": [
    "counter = Counter(y_train_smote)\n",
    "print(counter)"
   ]
  },
  {
   "cell_type": "code",
   "execution_count": 55,
   "metadata": {},
   "outputs": [
    {
     "data": {
      "image/png": "[encoded data removed]",
      "text/plain": [
       "<Figure size 432x288 with 1 Axes>"
      ]
     },
     "metadata": {
      "needs_background": "light"
     },
     "output_type": "display_data"
    }
   ],
   "source": [
    "for label, _ in counter.items():\n",
    "    row_ix = where(y_train_smote == label)[0]\n",
    "    pyplot.scatter(X_train_smote[row_ix, 0], X_train_smote[row_ix, 1], label=str(label))\n",
    "pyplot.legend()\n",
    "pyplot.show()"
   ]
  },
  {
   "cell_type": "markdown",
   "metadata": {},
   "source": [
    "We may notice on the graph presented above that the algorithm SMOTE generated additional instance for class \"0\"."
   ]
  },
  {
   "cell_type": "code",
   "execution_count": 56,
   "metadata": {},
   "outputs": [],
   "source": [
    "algorithm_list ={'Logistic Regression OS': LogisticRegression(), \n",
    "                  'Random Forest OS': RandomForestClassifier(), \n",
    "                  'Decision Tree OS': DecisionTreeClassifier(),\n",
    "                  'SVM OS': SVC(probability = True)}"
   ]
  },
  {
   "cell_type": "code",
   "execution_count": 57,
   "metadata": {},
   "outputs": [
    {
     "data": {
      "text/html": [
       "<div>\n",
       "<style scoped>\n",
       "    .dataframe tbody tr th:only-of-type {\n",
       "        vertical-align: middle;\n",
       "    }\n",
       "\n",
       "    .dataframe tbody tr th {\n",
       "        vertical-align: top;\n",
       "    }\n",
       "\n",
       "    .dataframe thead th {\n",
       "        text-align: right;\n",
       "    }\n",
       "</style>\n",
       "<table border=\"1\" class=\"dataframe\">\n",
       "  <thead>\n",
       "    <tr style=\"text-align: right;\">\n",
       "      <th></th>\n",
       "      <th>Method</th>\n",
       "      <th>Accuracy</th>\n",
       "      <th>Precision</th>\n",
       "      <th>Recall</th>\n",
       "      <th>F1</th>\n",
       "      <th>AUC</th>\n",
       "      <th>Gini</th>\n",
       "    </tr>\n",
       "  </thead>\n",
       "  <tbody>\n",
       "    <tr>\n",
       "      <td>0</td>\n",
       "      <td>Logistic Regression</td>\n",
       "      <td>0.786667</td>\n",
       "      <td>0.841410</td>\n",
       "      <td>0.872146</td>\n",
       "      <td>0.856502</td>\n",
       "      <td>0.713851</td>\n",
       "      <td>0.427702</td>\n",
       "    </tr>\n",
       "    <tr>\n",
       "      <td>1</td>\n",
       "      <td>Random Forest</td>\n",
       "      <td>0.766667</td>\n",
       "      <td>0.809129</td>\n",
       "      <td>0.890411</td>\n",
       "      <td>0.847826</td>\n",
       "      <td>0.661255</td>\n",
       "      <td>0.322510</td>\n",
       "    </tr>\n",
       "    <tr>\n",
       "      <td>2</td>\n",
       "      <td>Decision Tree</td>\n",
       "      <td>0.710000</td>\n",
       "      <td>0.817308</td>\n",
       "      <td>0.776256</td>\n",
       "      <td>0.796253</td>\n",
       "      <td>0.653560</td>\n",
       "      <td>0.307120</td>\n",
       "    </tr>\n",
       "    <tr>\n",
       "      <td>3</td>\n",
       "      <td>SVM</td>\n",
       "      <td>0.800000</td>\n",
       "      <td>0.824490</td>\n",
       "      <td>0.922374</td>\n",
       "      <td>0.870690</td>\n",
       "      <td>0.695755</td>\n",
       "      <td>0.391510</td>\n",
       "    </tr>\n",
       "    <tr>\n",
       "      <td>4</td>\n",
       "      <td>Bagging Classifier</td>\n",
       "      <td>0.693333</td>\n",
       "      <td>0.806763</td>\n",
       "      <td>0.762557</td>\n",
       "      <td>0.784038</td>\n",
       "      <td>0.634365</td>\n",
       "      <td>0.268730</td>\n",
       "    </tr>\n",
       "    <tr>\n",
       "      <td>5</td>\n",
       "      <td>AdaBoost</td>\n",
       "      <td>0.773333</td>\n",
       "      <td>0.832599</td>\n",
       "      <td>0.863014</td>\n",
       "      <td>0.847534</td>\n",
       "      <td>0.696939</td>\n",
       "      <td>0.393878</td>\n",
       "    </tr>\n",
       "    <tr>\n",
       "      <td>6</td>\n",
       "      <td>Gradient Boosting</td>\n",
       "      <td>0.770000</td>\n",
       "      <td>0.820513</td>\n",
       "      <td>0.876712</td>\n",
       "      <td>0.847682</td>\n",
       "      <td>0.679097</td>\n",
       "      <td>0.358194</td>\n",
       "    </tr>\n",
       "    <tr>\n",
       "      <td>7</td>\n",
       "      <td>Voting Classifier_soft</td>\n",
       "      <td>0.790000</td>\n",
       "      <td>0.825000</td>\n",
       "      <td>0.904110</td>\n",
       "      <td>0.862745</td>\n",
       "      <td>0.692796</td>\n",
       "      <td>0.385591</td>\n",
       "    </tr>\n",
       "    <tr>\n",
       "      <td>8</td>\n",
       "      <td>Voting Classifier_hard</td>\n",
       "      <td>0.800000</td>\n",
       "      <td>0.821862</td>\n",
       "      <td>0.926941</td>\n",
       "      <td>0.871245</td>\n",
       "      <td>0.691865</td>\n",
       "      <td>0.383731</td>\n",
       "    </tr>\n",
       "    <tr>\n",
       "      <td>9</td>\n",
       "      <td>Logistic Regression GS</td>\n",
       "      <td>0.803333</td>\n",
       "      <td>0.833333</td>\n",
       "      <td>0.913242</td>\n",
       "      <td>0.871460</td>\n",
       "      <td>0.709707</td>\n",
       "      <td>0.419415</td>\n",
       "    </tr>\n",
       "    <tr>\n",
       "      <td>10</td>\n",
       "      <td>Random Forest GS</td>\n",
       "      <td>0.763333</td>\n",
       "      <td>0.836364</td>\n",
       "      <td>0.840183</td>\n",
       "      <td>0.838269</td>\n",
       "      <td>0.697869</td>\n",
       "      <td>0.395738</td>\n",
       "    </tr>\n",
       "    <tr>\n",
       "      <td>11</td>\n",
       "      <td>Decision Tree GS</td>\n",
       "      <td>0.703333</td>\n",
       "      <td>0.738971</td>\n",
       "      <td>0.917808</td>\n",
       "      <td>0.818737</td>\n",
       "      <td>0.520633</td>\n",
       "      <td>0.041265</td>\n",
       "    </tr>\n",
       "    <tr>\n",
       "      <td>12</td>\n",
       "      <td>SVM GS</td>\n",
       "      <td>0.783333</td>\n",
       "      <td>0.834783</td>\n",
       "      <td>0.876712</td>\n",
       "      <td>0.855234</td>\n",
       "      <td>0.703788</td>\n",
       "      <td>0.407577</td>\n",
       "    </tr>\n",
       "    <tr>\n",
       "      <td>13</td>\n",
       "      <td>Cost-Sensitive Logistic Regression</td>\n",
       "      <td>0.310000</td>\n",
       "      <td>0.875000</td>\n",
       "      <td>0.063927</td>\n",
       "      <td>0.119149</td>\n",
       "      <td>0.519618</td>\n",
       "      <td>0.039236</td>\n",
       "    </tr>\n",
       "    <tr>\n",
       "      <td>14</td>\n",
       "      <td>Cost-Sensitive Random Forest</td>\n",
       "      <td>0.270000</td>\n",
       "      <td>0.000000</td>\n",
       "      <td>0.000000</td>\n",
       "      <td>0.000000</td>\n",
       "      <td>0.500000</td>\n",
       "      <td>0.000000</td>\n",
       "    </tr>\n",
       "    <tr>\n",
       "      <td>15</td>\n",
       "      <td>Cost-Sensitive Decision Tree</td>\n",
       "      <td>0.596667</td>\n",
       "      <td>0.865672</td>\n",
       "      <td>0.529680</td>\n",
       "      <td>0.657224</td>\n",
       "      <td>0.653729</td>\n",
       "      <td>0.307458</td>\n",
       "    </tr>\n",
       "    <tr>\n",
       "      <td>16</td>\n",
       "      <td>Cost-Sensitive Logistic Regression</td>\n",
       "      <td>0.456667</td>\n",
       "      <td>0.733333</td>\n",
       "      <td>0.401826</td>\n",
       "      <td>0.519174</td>\n",
       "      <td>0.503382</td>\n",
       "      <td>0.006765</td>\n",
       "    </tr>\n",
       "    <tr>\n",
       "      <td>17</td>\n",
       "      <td>Cost-Sensitive Random Forest</td>\n",
       "      <td>0.670000</td>\n",
       "      <td>0.840909</td>\n",
       "      <td>0.675799</td>\n",
       "      <td>0.749367</td>\n",
       "      <td>0.665060</td>\n",
       "      <td>0.330120</td>\n",
       "    </tr>\n",
       "    <tr>\n",
       "      <td>18</td>\n",
       "      <td>Cost-Sensitive Decision Tree</td>\n",
       "      <td>0.693333</td>\n",
       "      <td>0.867052</td>\n",
       "      <td>0.684932</td>\n",
       "      <td>0.765306</td>\n",
       "      <td>0.700490</td>\n",
       "      <td>0.400981</td>\n",
       "    </tr>\n",
       "    <tr>\n",
       "      <td>19</td>\n",
       "      <td>Logistic Regression US</td>\n",
       "      <td>0.736667</td>\n",
       "      <td>0.884615</td>\n",
       "      <td>0.735160</td>\n",
       "      <td>0.802993</td>\n",
       "      <td>0.737950</td>\n",
       "      <td>0.475901</td>\n",
       "    </tr>\n",
       "    <tr>\n",
       "      <td>20</td>\n",
       "      <td>Random Forest US</td>\n",
       "      <td>0.706667</td>\n",
       "      <td>0.896970</td>\n",
       "      <td>0.675799</td>\n",
       "      <td>0.770833</td>\n",
       "      <td>0.732961</td>\n",
       "      <td>0.465923</td>\n",
       "    </tr>\n",
       "    <tr>\n",
       "      <td>21</td>\n",
       "      <td>Decision Tree US</td>\n",
       "      <td>0.640000</td>\n",
       "      <td>0.828402</td>\n",
       "      <td>0.639269</td>\n",
       "      <td>0.721649</td>\n",
       "      <td>0.640622</td>\n",
       "      <td>0.281245</td>\n",
       "    </tr>\n",
       "    <tr>\n",
       "      <td>22</td>\n",
       "      <td>SVM US</td>\n",
       "      <td>0.733333</td>\n",
       "      <td>0.897143</td>\n",
       "      <td>0.716895</td>\n",
       "      <td>0.796954</td>\n",
       "      <td>0.747336</td>\n",
       "      <td>0.494673</td>\n",
       "    </tr>\n",
       "    <tr>\n",
       "      <td>23</td>\n",
       "      <td>Balanced Random Forest</td>\n",
       "      <td>0.726667</td>\n",
       "      <td>0.882682</td>\n",
       "      <td>0.721461</td>\n",
       "      <td>0.793970</td>\n",
       "      <td>0.731101</td>\n",
       "      <td>0.462202</td>\n",
       "    </tr>\n",
       "    <tr>\n",
       "      <td>24</td>\n",
       "      <td>Easy Ensamble</td>\n",
       "      <td>0.743333</td>\n",
       "      <td>0.885870</td>\n",
       "      <td>0.744292</td>\n",
       "      <td>0.808933</td>\n",
       "      <td>0.742516</td>\n",
       "      <td>0.485033</td>\n",
       "    </tr>\n",
       "    <tr>\n",
       "      <td>25</td>\n",
       "      <td>Logistic Regression OS</td>\n",
       "      <td>0.760000</td>\n",
       "      <td>0.880829</td>\n",
       "      <td>0.776256</td>\n",
       "      <td>0.825243</td>\n",
       "      <td>0.746153</td>\n",
       "      <td>0.492305</td>\n",
       "    </tr>\n",
       "    <tr>\n",
       "      <td>26</td>\n",
       "      <td>Random Forest OS</td>\n",
       "      <td>0.776667</td>\n",
       "      <td>0.819328</td>\n",
       "      <td>0.890411</td>\n",
       "      <td>0.853392</td>\n",
       "      <td>0.679773</td>\n",
       "      <td>0.359547</td>\n",
       "    </tr>\n",
       "    <tr>\n",
       "      <td>27</td>\n",
       "      <td>Decision Tree OS</td>\n",
       "      <td>0.686667</td>\n",
       "      <td>0.788018</td>\n",
       "      <td>0.780822</td>\n",
       "      <td>0.784404</td>\n",
       "      <td>0.606460</td>\n",
       "      <td>0.212921</td>\n",
       "    </tr>\n",
       "    <tr>\n",
       "      <td>28</td>\n",
       "      <td>SVM OS</td>\n",
       "      <td>0.776667</td>\n",
       "      <td>0.865385</td>\n",
       "      <td>0.821918</td>\n",
       "      <td>0.843091</td>\n",
       "      <td>0.738119</td>\n",
       "      <td>0.476239</td>\n",
       "    </tr>\n",
       "  </tbody>\n",
       "</table>\n",
       "</div>"
      ],
      "text/plain": [
       "                                Method  Accuracy  Precision    Recall  \\\n",
       "0                  Logistic Regression  0.786667   0.841410  0.872146   \n",
       "1                        Random Forest  0.766667   0.809129  0.890411   \n",
       "2                        Decision Tree  0.710000   0.817308  0.776256   \n",
       "3                                  SVM  0.800000   0.824490  0.922374   \n",
       "4                   Bagging Classifier  0.693333   0.806763  0.762557   \n",
       "5                             AdaBoost  0.773333   0.832599  0.863014   \n",
       "6                    Gradient Boosting  0.770000   0.820513  0.876712   \n",
       "7               Voting Classifier_soft  0.790000   0.825000  0.904110   \n",
       "8               Voting Classifier_hard  0.800000   0.821862  0.926941   \n",
       "9               Logistic Regression GS  0.803333   0.833333  0.913242   \n",
       "10                    Random Forest GS  0.763333   0.836364  0.840183   \n",
       "11                    Decision Tree GS  0.703333   0.738971  0.917808   \n",
       "12                              SVM GS  0.783333   0.834783  0.876712   \n",
       "13  Cost-Sensitive Logistic Regression  0.310000   0.875000  0.063927   \n",
       "14        Cost-Sensitive Random Forest  0.270000   0.000000  0.000000   \n",
       "15        Cost-Sensitive Decision Tree  0.596667   0.865672  0.529680   \n",
       "16  Cost-Sensitive Logistic Regression  0.456667   0.733333  0.401826   \n",
       "17        Cost-Sensitive Random Forest  0.670000   0.840909  0.675799   \n",
       "18        Cost-Sensitive Decision Tree  0.693333   0.867052  0.684932   \n",
       "19              Logistic Regression US  0.736667   0.884615  0.735160   \n",
       "20                    Random Forest US  0.706667   0.896970  0.675799   \n",
       "21                    Decision Tree US  0.640000   0.828402  0.639269   \n",
       "22                              SVM US  0.733333   0.897143  0.716895   \n",
       "23              Balanced Random Forest  0.726667   0.882682  0.721461   \n",
       "24                       Easy Ensamble  0.743333   0.885870  0.744292   \n",
       "25              Logistic Regression OS  0.760000   0.880829  0.776256   \n",
       "26                    Random Forest OS  0.776667   0.819328  0.890411   \n",
       "27                    Decision Tree OS  0.686667   0.788018  0.780822   \n",
       "28                              SVM OS  0.776667   0.865385  0.821918   \n",
       "\n",
       "          F1       AUC      Gini  \n",
       "0   0.856502  0.713851  0.427702  \n",
       "1   0.847826  0.661255  0.322510  \n",
       "2   0.796253  0.653560  0.307120  \n",
       "3   0.870690  0.695755  0.391510  \n",
       "4   0.784038  0.634365  0.268730  \n",
       "5   0.847534  0.696939  0.393878  \n",
       "6   0.847682  0.679097  0.358194  \n",
       "7   0.862745  0.692796  0.385591  \n",
       "8   0.871245  0.691865  0.383731  \n",
       "9   0.871460  0.709707  0.419415  \n",
       "10  0.838269  0.697869  0.395738  \n",
       "11  0.818737  0.520633  0.041265  \n",
       "12  0.855234  0.703788  0.407577  \n",
       "13  0.119149  0.519618  0.039236  \n",
       "14  0.000000  0.500000  0.000000  \n",
       "15  0.657224  0.653729  0.307458  \n",
       "16  0.519174  0.503382  0.006765  \n",
       "17  0.749367  0.665060  0.330120  \n",
       "18  0.765306  0.700490  0.400981  \n",
       "19  0.802993  0.737950  0.475901  \n",
       "20  0.770833  0.732961  0.465923  \n",
       "21  0.721649  0.640622  0.281245  \n",
       "22  0.796954  0.747336  0.494673  \n",
       "23  0.793970  0.731101  0.462202  \n",
       "24  0.808933  0.742516  0.485033  \n",
       "25  0.825243  0.746153  0.492305  \n",
       "26  0.853392  0.679773  0.359547  \n",
       "27  0.784404  0.606460  0.212921  \n",
       "28  0.843091  0.738119  0.476239  "
      ]
     },
     "execution_count": 57,
     "metadata": {},
     "output_type": "execute_result"
    }
   ],
   "source": [
    "fit_classifier(algorithm_list, X_train_smote, X_test, y_train_smote, y_test)"
   ]
  },
  {
   "cell_type": "markdown",
   "metadata": {},
   "source": [
    "Oversampling method lead to better results than undersampling technique for **Logistic Regression**. However, still **SVM** with undersampling has lead to the highest Gini Score among all of the algorithms presented above."
   ]
  },
  {
   "cell_type": "markdown",
   "metadata": {},
   "source": [
    "We will also implement RandomUnderSampler so as to reduce a bit the number of observations in the majority class. We will set the ratio between majority and minority class equal to 0,7."
   ]
  },
  {
   "cell_type": "code",
   "execution_count": 58,
   "metadata": {},
   "outputs": [],
   "source": [
    "from imblearn.under_sampling import RandomUnderSampler\n",
    "from imblearn.pipeline import Pipeline"
   ]
  },
  {
   "cell_type": "code",
   "execution_count": 59,
   "metadata": {},
   "outputs": [],
   "source": [
    "over = SMOTE(sampling_strategy=0.5) \n",
    "under = RandomUnderSampler(sampling_strategy=0.7)"
   ]
  },
  {
   "cell_type": "code",
   "execution_count": 60,
   "metadata": {},
   "outputs": [],
   "source": [
    "steps = [('o', over), ('u', under)]\n",
    "pipeline = Pipeline(steps=steps)"
   ]
  },
  {
   "cell_type": "code",
   "execution_count": 61,
   "metadata": {},
   "outputs": [],
   "source": [
    "X_train_rus, y_train_rus = pipeline.fit_resample(X_train, y_train)"
   ]
  },
  {
   "cell_type": "code",
   "execution_count": 62,
   "metadata": {},
   "outputs": [
    {
     "name": "stdout",
     "output_type": "stream",
     "text": [
      "Counter({1: 342, 0: 240})\n"
     ]
    }
   ],
   "source": [
    "counter = Counter(y_train_rus)\n",
    "print(counter)"
   ]
  },
  {
   "cell_type": "code",
   "execution_count": 63,
   "metadata": {},
   "outputs": [
    {
     "data": {
      "image/png": "[encoded data removed]",
      "text/plain": [
       "<Figure size 432x288 with 1 Axes>"
      ]
     },
     "metadata": {
      "needs_background": "light"
     },
     "output_type": "display_data"
    }
   ],
   "source": [
    "for label, _ in counter.items():\n",
    "    row_ix = where(y_train_rus == label)[0]\n",
    "    pyplot.scatter(X_train_rus[row_ix, 0], X_train_rus[row_ix, 1], label=str(label))\n",
    "pyplot.legend()\n",
    "pyplot.show()"
   ]
  },
  {
   "cell_type": "code",
   "execution_count": 64,
   "metadata": {},
   "outputs": [],
   "source": [
    "algorithm_list ={'Logistic Regression OS_2': LogisticRegression(), \n",
    "                  'Random Forest OS_2': RandomForestClassifier(), \n",
    "                  'Decision Tree OS_2': DecisionTreeClassifier(),\n",
    "                  'SVM OS_2': SVC(probability = True)}"
   ]
  },
  {
   "cell_type": "code",
   "execution_count": 65,
   "metadata": {},
   "outputs": [
    {
     "data": {
      "text/html": [
       "<div>\n",
       "<style scoped>\n",
       "    .dataframe tbody tr th:only-of-type {\n",
       "        vertical-align: middle;\n",
       "    }\n",
       "\n",
       "    .dataframe tbody tr th {\n",
       "        vertical-align: top;\n",
       "    }\n",
       "\n",
       "    .dataframe thead th {\n",
       "        text-align: right;\n",
       "    }\n",
       "</style>\n",
       "<table border=\"1\" class=\"dataframe\">\n",
       "  <thead>\n",
       "    <tr style=\"text-align: right;\">\n",
       "      <th></th>\n",
       "      <th>Method</th>\n",
       "      <th>Accuracy</th>\n",
       "      <th>Precision</th>\n",
       "      <th>Recall</th>\n",
       "      <th>F1</th>\n",
       "      <th>AUC</th>\n",
       "      <th>Gini</th>\n",
       "    </tr>\n",
       "  </thead>\n",
       "  <tbody>\n",
       "    <tr>\n",
       "      <td>0</td>\n",
       "      <td>Logistic Regression</td>\n",
       "      <td>0.786667</td>\n",
       "      <td>0.841410</td>\n",
       "      <td>0.872146</td>\n",
       "      <td>0.856502</td>\n",
       "      <td>0.713851</td>\n",
       "      <td>0.427702</td>\n",
       "    </tr>\n",
       "    <tr>\n",
       "      <td>1</td>\n",
       "      <td>Random Forest</td>\n",
       "      <td>0.766667</td>\n",
       "      <td>0.809129</td>\n",
       "      <td>0.890411</td>\n",
       "      <td>0.847826</td>\n",
       "      <td>0.661255</td>\n",
       "      <td>0.322510</td>\n",
       "    </tr>\n",
       "    <tr>\n",
       "      <td>2</td>\n",
       "      <td>Decision Tree</td>\n",
       "      <td>0.710000</td>\n",
       "      <td>0.817308</td>\n",
       "      <td>0.776256</td>\n",
       "      <td>0.796253</td>\n",
       "      <td>0.653560</td>\n",
       "      <td>0.307120</td>\n",
       "    </tr>\n",
       "    <tr>\n",
       "      <td>3</td>\n",
       "      <td>SVM</td>\n",
       "      <td>0.800000</td>\n",
       "      <td>0.824490</td>\n",
       "      <td>0.922374</td>\n",
       "      <td>0.870690</td>\n",
       "      <td>0.695755</td>\n",
       "      <td>0.391510</td>\n",
       "    </tr>\n",
       "    <tr>\n",
       "      <td>4</td>\n",
       "      <td>Bagging Classifier</td>\n",
       "      <td>0.693333</td>\n",
       "      <td>0.806763</td>\n",
       "      <td>0.762557</td>\n",
       "      <td>0.784038</td>\n",
       "      <td>0.634365</td>\n",
       "      <td>0.268730</td>\n",
       "    </tr>\n",
       "    <tr>\n",
       "      <td>5</td>\n",
       "      <td>AdaBoost</td>\n",
       "      <td>0.773333</td>\n",
       "      <td>0.832599</td>\n",
       "      <td>0.863014</td>\n",
       "      <td>0.847534</td>\n",
       "      <td>0.696939</td>\n",
       "      <td>0.393878</td>\n",
       "    </tr>\n",
       "    <tr>\n",
       "      <td>6</td>\n",
       "      <td>Gradient Boosting</td>\n",
       "      <td>0.770000</td>\n",
       "      <td>0.820513</td>\n",
       "      <td>0.876712</td>\n",
       "      <td>0.847682</td>\n",
       "      <td>0.679097</td>\n",
       "      <td>0.358194</td>\n",
       "    </tr>\n",
       "    <tr>\n",
       "      <td>7</td>\n",
       "      <td>Voting Classifier_soft</td>\n",
       "      <td>0.790000</td>\n",
       "      <td>0.825000</td>\n",
       "      <td>0.904110</td>\n",
       "      <td>0.862745</td>\n",
       "      <td>0.692796</td>\n",
       "      <td>0.385591</td>\n",
       "    </tr>\n",
       "    <tr>\n",
       "      <td>8</td>\n",
       "      <td>Voting Classifier_hard</td>\n",
       "      <td>0.800000</td>\n",
       "      <td>0.821862</td>\n",
       "      <td>0.926941</td>\n",
       "      <td>0.871245</td>\n",
       "      <td>0.691865</td>\n",
       "      <td>0.383731</td>\n",
       "    </tr>\n",
       "    <tr>\n",
       "      <td>9</td>\n",
       "      <td>Logistic Regression GS</td>\n",
       "      <td>0.803333</td>\n",
       "      <td>0.833333</td>\n",
       "      <td>0.913242</td>\n",
       "      <td>0.871460</td>\n",
       "      <td>0.709707</td>\n",
       "      <td>0.419415</td>\n",
       "    </tr>\n",
       "    <tr>\n",
       "      <td>10</td>\n",
       "      <td>Random Forest GS</td>\n",
       "      <td>0.763333</td>\n",
       "      <td>0.836364</td>\n",
       "      <td>0.840183</td>\n",
       "      <td>0.838269</td>\n",
       "      <td>0.697869</td>\n",
       "      <td>0.395738</td>\n",
       "    </tr>\n",
       "    <tr>\n",
       "      <td>11</td>\n",
       "      <td>Decision Tree GS</td>\n",
       "      <td>0.703333</td>\n",
       "      <td>0.738971</td>\n",
       "      <td>0.917808</td>\n",
       "      <td>0.818737</td>\n",
       "      <td>0.520633</td>\n",
       "      <td>0.041265</td>\n",
       "    </tr>\n",
       "    <tr>\n",
       "      <td>12</td>\n",
       "      <td>SVM GS</td>\n",
       "      <td>0.783333</td>\n",
       "      <td>0.834783</td>\n",
       "      <td>0.876712</td>\n",
       "      <td>0.855234</td>\n",
       "      <td>0.703788</td>\n",
       "      <td>0.407577</td>\n",
       "    </tr>\n",
       "    <tr>\n",
       "      <td>13</td>\n",
       "      <td>Cost-Sensitive Logistic Regression</td>\n",
       "      <td>0.310000</td>\n",
       "      <td>0.875000</td>\n",
       "      <td>0.063927</td>\n",
       "      <td>0.119149</td>\n",
       "      <td>0.519618</td>\n",
       "      <td>0.039236</td>\n",
       "    </tr>\n",
       "    <tr>\n",
       "      <td>14</td>\n",
       "      <td>Cost-Sensitive Random Forest</td>\n",
       "      <td>0.270000</td>\n",
       "      <td>0.000000</td>\n",
       "      <td>0.000000</td>\n",
       "      <td>0.000000</td>\n",
       "      <td>0.500000</td>\n",
       "      <td>0.000000</td>\n",
       "    </tr>\n",
       "    <tr>\n",
       "      <td>15</td>\n",
       "      <td>Cost-Sensitive Decision Tree</td>\n",
       "      <td>0.596667</td>\n",
       "      <td>0.865672</td>\n",
       "      <td>0.529680</td>\n",
       "      <td>0.657224</td>\n",
       "      <td>0.653729</td>\n",
       "      <td>0.307458</td>\n",
       "    </tr>\n",
       "    <tr>\n",
       "      <td>16</td>\n",
       "      <td>Cost-Sensitive Logistic Regression</td>\n",
       "      <td>0.456667</td>\n",
       "      <td>0.733333</td>\n",
       "      <td>0.401826</td>\n",
       "      <td>0.519174</td>\n",
       "      <td>0.503382</td>\n",
       "      <td>0.006765</td>\n",
       "    </tr>\n",
       "    <tr>\n",
       "      <td>17</td>\n",
       "      <td>Cost-Sensitive Random Forest</td>\n",
       "      <td>0.670000</td>\n",
       "      <td>0.840909</td>\n",
       "      <td>0.675799</td>\n",
       "      <td>0.749367</td>\n",
       "      <td>0.665060</td>\n",
       "      <td>0.330120</td>\n",
       "    </tr>\n",
       "    <tr>\n",
       "      <td>18</td>\n",
       "      <td>Cost-Sensitive Decision Tree</td>\n",
       "      <td>0.693333</td>\n",
       "      <td>0.867052</td>\n",
       "      <td>0.684932</td>\n",
       "      <td>0.765306</td>\n",
       "      <td>0.700490</td>\n",
       "      <td>0.400981</td>\n",
       "    </tr>\n",
       "    <tr>\n",
       "      <td>19</td>\n",
       "      <td>Logistic Regression US</td>\n",
       "      <td>0.736667</td>\n",
       "      <td>0.884615</td>\n",
       "      <td>0.735160</td>\n",
       "      <td>0.802993</td>\n",
       "      <td>0.737950</td>\n",
       "      <td>0.475901</td>\n",
       "    </tr>\n",
       "    <tr>\n",
       "      <td>20</td>\n",
       "      <td>Random Forest US</td>\n",
       "      <td>0.706667</td>\n",
       "      <td>0.896970</td>\n",
       "      <td>0.675799</td>\n",
       "      <td>0.770833</td>\n",
       "      <td>0.732961</td>\n",
       "      <td>0.465923</td>\n",
       "    </tr>\n",
       "    <tr>\n",
       "      <td>21</td>\n",
       "      <td>Decision Tree US</td>\n",
       "      <td>0.640000</td>\n",
       "      <td>0.828402</td>\n",
       "      <td>0.639269</td>\n",
       "      <td>0.721649</td>\n",
       "      <td>0.640622</td>\n",
       "      <td>0.281245</td>\n",
       "    </tr>\n",
       "    <tr>\n",
       "      <td>22</td>\n",
       "      <td>SVM US</td>\n",
       "      <td>0.733333</td>\n",
       "      <td>0.897143</td>\n",
       "      <td>0.716895</td>\n",
       "      <td>0.796954</td>\n",
       "      <td>0.747336</td>\n",
       "      <td>0.494673</td>\n",
       "    </tr>\n",
       "    <tr>\n",
       "      <td>23</td>\n",
       "      <td>Balanced Random Forest</td>\n",
       "      <td>0.726667</td>\n",
       "      <td>0.882682</td>\n",
       "      <td>0.721461</td>\n",
       "      <td>0.793970</td>\n",
       "      <td>0.731101</td>\n",
       "      <td>0.462202</td>\n",
       "    </tr>\n",
       "    <tr>\n",
       "      <td>24</td>\n",
       "      <td>Easy Ensamble</td>\n",
       "      <td>0.743333</td>\n",
       "      <td>0.885870</td>\n",
       "      <td>0.744292</td>\n",
       "      <td>0.808933</td>\n",
       "      <td>0.742516</td>\n",
       "      <td>0.485033</td>\n",
       "    </tr>\n",
       "    <tr>\n",
       "      <td>25</td>\n",
       "      <td>Logistic Regression OS</td>\n",
       "      <td>0.760000</td>\n",
       "      <td>0.880829</td>\n",
       "      <td>0.776256</td>\n",
       "      <td>0.825243</td>\n",
       "      <td>0.746153</td>\n",
       "      <td>0.492305</td>\n",
       "    </tr>\n",
       "    <tr>\n",
       "      <td>26</td>\n",
       "      <td>Random Forest OS</td>\n",
       "      <td>0.776667</td>\n",
       "      <td>0.819328</td>\n",
       "      <td>0.890411</td>\n",
       "      <td>0.853392</td>\n",
       "      <td>0.679773</td>\n",
       "      <td>0.359547</td>\n",
       "    </tr>\n",
       "    <tr>\n",
       "      <td>27</td>\n",
       "      <td>Decision Tree OS</td>\n",
       "      <td>0.686667</td>\n",
       "      <td>0.788018</td>\n",
       "      <td>0.780822</td>\n",
       "      <td>0.784404</td>\n",
       "      <td>0.606460</td>\n",
       "      <td>0.212921</td>\n",
       "    </tr>\n",
       "    <tr>\n",
       "      <td>28</td>\n",
       "      <td>SVM OS</td>\n",
       "      <td>0.776667</td>\n",
       "      <td>0.865385</td>\n",
       "      <td>0.821918</td>\n",
       "      <td>0.843091</td>\n",
       "      <td>0.738119</td>\n",
       "      <td>0.476239</td>\n",
       "    </tr>\n",
       "    <tr>\n",
       "      <td>29</td>\n",
       "      <td>Logistic Regression OS_2</td>\n",
       "      <td>0.760000</td>\n",
       "      <td>0.869347</td>\n",
       "      <td>0.789954</td>\n",
       "      <td>0.827751</td>\n",
       "      <td>0.734483</td>\n",
       "      <td>0.468967</td>\n",
       "    </tr>\n",
       "    <tr>\n",
       "      <td>30</td>\n",
       "      <td>Random Forest OS_2</td>\n",
       "      <td>0.763333</td>\n",
       "      <td>0.842593</td>\n",
       "      <td>0.831050</td>\n",
       "      <td>0.836782</td>\n",
       "      <td>0.705649</td>\n",
       "      <td>0.411297</td>\n",
       "    </tr>\n",
       "    <tr>\n",
       "      <td>31</td>\n",
       "      <td>Decision Tree OS_2</td>\n",
       "      <td>0.663333</td>\n",
       "      <td>0.820652</td>\n",
       "      <td>0.689498</td>\n",
       "      <td>0.749380</td>\n",
       "      <td>0.641045</td>\n",
       "      <td>0.282090</td>\n",
       "    </tr>\n",
       "    <tr>\n",
       "      <td>32</td>\n",
       "      <td>SVM OS_2</td>\n",
       "      <td>0.783333</td>\n",
       "      <td>0.866667</td>\n",
       "      <td>0.831050</td>\n",
       "      <td>0.848485</td>\n",
       "      <td>0.742686</td>\n",
       "      <td>0.485371</td>\n",
       "    </tr>\n",
       "  </tbody>\n",
       "</table>\n",
       "</div>"
      ],
      "text/plain": [
       "                                Method  Accuracy  Precision    Recall  \\\n",
       "0                  Logistic Regression  0.786667   0.841410  0.872146   \n",
       "1                        Random Forest  0.766667   0.809129  0.890411   \n",
       "2                        Decision Tree  0.710000   0.817308  0.776256   \n",
       "3                                  SVM  0.800000   0.824490  0.922374   \n",
       "4                   Bagging Classifier  0.693333   0.806763  0.762557   \n",
       "5                             AdaBoost  0.773333   0.832599  0.863014   \n",
       "6                    Gradient Boosting  0.770000   0.820513  0.876712   \n",
       "7               Voting Classifier_soft  0.790000   0.825000  0.904110   \n",
       "8               Voting Classifier_hard  0.800000   0.821862  0.926941   \n",
       "9               Logistic Regression GS  0.803333   0.833333  0.913242   \n",
       "10                    Random Forest GS  0.763333   0.836364  0.840183   \n",
       "11                    Decision Tree GS  0.703333   0.738971  0.917808   \n",
       "12                              SVM GS  0.783333   0.834783  0.876712   \n",
       "13  Cost-Sensitive Logistic Regression  0.310000   0.875000  0.063927   \n",
       "14        Cost-Sensitive Random Forest  0.270000   0.000000  0.000000   \n",
       "15        Cost-Sensitive Decision Tree  0.596667   0.865672  0.529680   \n",
       "16  Cost-Sensitive Logistic Regression  0.456667   0.733333  0.401826   \n",
       "17        Cost-Sensitive Random Forest  0.670000   0.840909  0.675799   \n",
       "18        Cost-Sensitive Decision Tree  0.693333   0.867052  0.684932   \n",
       "19              Logistic Regression US  0.736667   0.884615  0.735160   \n",
       "20                    Random Forest US  0.706667   0.896970  0.675799   \n",
       "21                    Decision Tree US  0.640000   0.828402  0.639269   \n",
       "22                              SVM US  0.733333   0.897143  0.716895   \n",
       "23              Balanced Random Forest  0.726667   0.882682  0.721461   \n",
       "24                       Easy Ensamble  0.743333   0.885870  0.744292   \n",
       "25              Logistic Regression OS  0.760000   0.880829  0.776256   \n",
       "26                    Random Forest OS  0.776667   0.819328  0.890411   \n",
       "27                    Decision Tree OS  0.686667   0.788018  0.780822   \n",
       "28                              SVM OS  0.776667   0.865385  0.821918   \n",
       "29            Logistic Regression OS_2  0.760000   0.869347  0.789954   \n",
       "30                  Random Forest OS_2  0.763333   0.842593  0.831050   \n",
       "31                  Decision Tree OS_2  0.663333   0.820652  0.689498   \n",
       "32                            SVM OS_2  0.783333   0.866667  0.831050   \n",
       "\n",
       "          F1       AUC      Gini  \n",
       "0   0.856502  0.713851  0.427702  \n",
       "1   0.847826  0.661255  0.322510  \n",
       "2   0.796253  0.653560  0.307120  \n",
       "3   0.870690  0.695755  0.391510  \n",
       "4   0.784038  0.634365  0.268730  \n",
       "5   0.847534  0.696939  0.393878  \n",
       "6   0.847682  0.679097  0.358194  \n",
       "7   0.862745  0.692796  0.385591  \n",
       "8   0.871245  0.691865  0.383731  \n",
       "9   0.871460  0.709707  0.419415  \n",
       "10  0.838269  0.697869  0.395738  \n",
       "11  0.818737  0.520633  0.041265  \n",
       "12  0.855234  0.703788  0.407577  \n",
       "13  0.119149  0.519618  0.039236  \n",
       "14  0.000000  0.500000  0.000000  \n",
       "15  0.657224  0.653729  0.307458  \n",
       "16  0.519174  0.503382  0.006765  \n",
       "17  0.749367  0.665060  0.330120  \n",
       "18  0.765306  0.700490  0.400981  \n",
       "19  0.802993  0.737950  0.475901  \n",
       "20  0.770833  0.732961  0.465923  \n",
       "21  0.721649  0.640622  0.281245  \n",
       "22  0.796954  0.747336  0.494673  \n",
       "23  0.793970  0.731101  0.462202  \n",
       "24  0.808933  0.742516  0.485033  \n",
       "25  0.825243  0.746153  0.492305  \n",
       "26  0.853392  0.679773  0.359547  \n",
       "27  0.784404  0.606460  0.212921  \n",
       "28  0.843091  0.738119  0.476239  \n",
       "29  0.827751  0.734483  0.468967  \n",
       "30  0.836782  0.705649  0.411297  \n",
       "31  0.749380  0.641045  0.282090  \n",
       "32  0.848485  0.742686  0.485371  "
      ]
     },
     "execution_count": 65,
     "metadata": {},
     "output_type": "execute_result"
    }
   ],
   "source": [
    "fit_classifier(algorithm_list, X_train_rus, X_test, y_train_rus, y_test)"
   ]
  },
  {
   "cell_type": "markdown",
   "metadata": {},
   "source": [
    "Implementing **RandomUnderSampler** improved the scores for **Decision Tree** and **SVM**. "
   ]
  },
  {
   "cell_type": "markdown",
   "metadata": {},
   "source": [
    "Based on the scores presented above, the best models when it comes to Gini Coefficient are **SVM** with undersampled majority class _(Gini = 0,495)_ and **Logistic Regression** with oversampled minority class _(Gini = 0,492)_. Some additionall measures will be presented for these two models."
   ]
  },
  {
   "cell_type": "code",
   "execution_count": 153,
   "metadata": {},
   "outputs": [],
   "source": [
    "np.save(\"./Data/method.npy\", Algorithm_name_list)\n",
    "np.save(\"./Data/accuracy.npy\", Accuracy_list)\n",
    "np.save(\"./Data/precision.npy\", Precision_list)\n",
    "np.save(\"./Data/recall.npy\", Recall_list)\n",
    "np.save(\"./Data/F1.npy\", F1_score_list)\n",
    "np.save(\"./Data/AUC.npy\", AUC_list)\n",
    "np.save(\"./Data/Gini.npy\", Gini_list)"
   ]
  },
  {
   "cell_type": "markdown",
   "metadata": {},
   "source": [
    "## 5. Additional measures"
   ]
  },
  {
   "cell_type": "markdown",
   "metadata": {},
   "source": [
    "With the aim of explaining more the winning algorithm **SVM implemented with undersampled majority class** some additional statistic will be presented.\n",
    "\n",
    "Additionally, as for SVM with non-linear kernel the feature importance explanation is not available therefore also **Logistic regression with oversampled minority class** will be presented as it is more explainable."
   ]
  },
  {
   "cell_type": "markdown",
   "metadata": {},
   "source": [
    "### 5.1 SVM & majority class undersampled"
   ]
  },
  {
   "cell_type": "code",
   "execution_count": 96,
   "metadata": {},
   "outputs": [],
   "source": [
    "algorithm = SVC(probability=True)\n",
    "algorithm.fit(X_train_under, y_train_under)\n",
    "y_pred_train = algorithm.predict_proba(X_train_under)[:, 1]\n",
    "y_pred = algorithm.predict(X_test)"
   ]
  },
  {
   "cell_type": "markdown",
   "metadata": {},
   "source": [
    "#### 5.1.1. Confusion matrix"
   ]
  },
  {
   "cell_type": "code",
   "execution_count": 101,
   "metadata": {},
   "outputs": [
    {
     "data": {
      "text/plain": [
       "array([[ 63,  18],\n",
       "       [ 62, 157]], dtype=int64)"
      ]
     },
     "execution_count": 101,
     "metadata": {},
     "output_type": "execute_result"
    }
   ],
   "source": [
    "confusion_matrix(y_test, y_pred)"
   ]
  },
  {
   "cell_type": "markdown",
   "metadata": {},
   "source": [
    "Based on the confusion matrix presented above we may notice that the algorithm classified **157** good customers correctly and **63** bad customers correctly. \n",
    "\n",
    "On the other hand, **62** good customers were classified as a bad ones and the bank would not grant a loan even though they would pay off the debt in the future. **18** bad customers were incorrectly classified as a good ones and the bank would incur a loss due to unpaid credit."
   ]
  },
  {
   "cell_type": "markdown",
   "metadata": {},
   "source": [
    "#### 5.1.2. Classification report"
   ]
  },
  {
   "cell_type": "code",
   "execution_count": 103,
   "metadata": {},
   "outputs": [
    {
     "name": "stdout",
     "output_type": "stream",
     "text": [
      "              precision    recall  f1-score   support\n",
      "\n",
      "           0       0.50      0.78      0.61        81\n",
      "           1       0.90      0.72      0.80       219\n",
      "\n",
      "    accuracy                           0.73       300\n",
      "   macro avg       0.70      0.75      0.70       300\n",
      "weighted avg       0.79      0.73      0.75       300\n",
      "\n"
     ]
    }
   ],
   "source": [
    "print(classification_report(y_test, y_pred)) "
   ]
  },
  {
   "cell_type": "markdown",
   "metadata": {},
   "source": [
    "#### 5.1.3. ROC Curve"
   ]
  },
  {
   "cell_type": "code",
   "execution_count": 107,
   "metadata": {},
   "outputs": [],
   "source": [
    "y_pred = algorithm.predict_proba(X_test)[:, 1]"
   ]
  },
  {
   "cell_type": "code",
   "execution_count": 108,
   "metadata": {},
   "outputs": [
    {
     "data": {
      "image/png": "[encoded data removed]",
      "text/plain": [
       "<Figure size 432x288 with 1 Axes>"
      ]
     },
     "metadata": {
      "needs_background": "light"
     },
     "output_type": "display_data"
    }
   ],
   "source": [
    "# calculate roc curves\n",
    "fpr, tpr, thresholds = roc_curve(y_test, y_pred)\n",
    "# plot the roc curve for the model\n",
    "pyplot.plot([0,1], [0,1], linestyle='--', label='Random')\n",
    "pyplot.plot(fpr, tpr, marker='.', label='SVM')\n",
    "# axis labels\n",
    "pyplot.xlabel('False Positive Rate')\n",
    "pyplot.ylabel('True Positive Rate')\n",
    "pyplot.legend()\n",
    "# show the plot\n",
    "pyplot.show()"
   ]
  },
  {
   "cell_type": "markdown",
   "metadata": {},
   "source": [
    "### 5.2. Logistic Regression & minority class oversampled (SMOTE)"
   ]
  },
  {
   "cell_type": "code",
   "execution_count": 125,
   "metadata": {},
   "outputs": [],
   "source": [
    "algorithm = LogisticRegression()\n",
    "algorithm.fit(X_train_smote, y_train_smote)\n",
    "y_pred_train = algorithm.predict_proba(X_train_smote)[:, 1]\n",
    "y_pred = algorithm.predict(X_test)"
   ]
  },
  {
   "cell_type": "markdown",
   "metadata": {},
   "source": [
    "#### 5.2.1. Confusion matrix"
   ]
  },
  {
   "cell_type": "code",
   "execution_count": 126,
   "metadata": {},
   "outputs": [
    {
     "data": {
      "text/plain": [
       "array([[ 58,  23],\n",
       "       [ 49, 170]], dtype=int64)"
      ]
     },
     "execution_count": 126,
     "metadata": {},
     "output_type": "execute_result"
    }
   ],
   "source": [
    "confusion_matrix(y_test, y_pred)"
   ]
  },
  {
   "cell_type": "markdown",
   "metadata": {},
   "source": [
    "Based on the confusion matrix presented above we may notice that the algorithm classified **170** good customers correctly and **58** bad customers correctly. \n",
    "\n",
    "On the other hand, **49** good customers were classified as a bad ones and the bank would not grant a loan even though they would pay off the debt in the future. **23** bad customers were incorrectly classified as a good ones and the bank would incur a loss due to unpaid credit.\n",
    "\n",
    "Comparing to the previously presented confusion matrix this algorithm classified better good customers, however, classifiation of bad customers is worse than previously."
   ]
  },
  {
   "cell_type": "markdown",
   "metadata": {},
   "source": [
    "#### 5.2.2. Classification report"
   ]
  },
  {
   "cell_type": "code",
   "execution_count": 127,
   "metadata": {},
   "outputs": [
    {
     "name": "stdout",
     "output_type": "stream",
     "text": [
      "              precision    recall  f1-score   support\n",
      "\n",
      "           0       0.54      0.72      0.62        81\n",
      "           1       0.88      0.78      0.83       219\n",
      "\n",
      "    accuracy                           0.76       300\n",
      "   macro avg       0.71      0.75      0.72       300\n",
      "weighted avg       0.79      0.76      0.77       300\n",
      "\n"
     ]
    }
   ],
   "source": [
    "print(classification_report(y_test, y_pred)) "
   ]
  },
  {
   "cell_type": "markdown",
   "metadata": {},
   "source": [
    "#### 5.2.3. ROC Curve"
   ]
  },
  {
   "cell_type": "code",
   "execution_count": 128,
   "metadata": {},
   "outputs": [],
   "source": [
    "y_pred = algorithm.predict_proba(X_test)[:, 1]"
   ]
  },
  {
   "cell_type": "code",
   "execution_count": 129,
   "metadata": {},
   "outputs": [
    {
     "data": {
      "image/png": "[encoded data removed]",
      "text/plain": [
       "<Figure size 432x288 with 1 Axes>"
      ]
     },
     "metadata": {
      "needs_background": "light"
     },
     "output_type": "display_data"
    }
   ],
   "source": [
    "# calculate roc curves\n",
    "fpr, tpr, thresholds = roc_curve(y_test, y_pred)\n",
    "# plot the roc curve for the model\n",
    "pyplot.plot([0,1], [0,1], linestyle='--', label='Random')\n",
    "pyplot.plot(fpr, tpr, marker='.', label='Logistic Regression')\n",
    "# axis labels\n",
    "pyplot.xlabel('False Positive Rate')\n",
    "pyplot.ylabel('True Positive Rate')\n",
    "pyplot.legend()\n",
    "# show the plot\n",
    "pyplot.show()"
   ]
  },
  {
   "cell_type": "markdown",
   "metadata": {},
   "source": [
    "#### 5.3.3. Feature importance"
   ]
  },
  {
   "cell_type": "code",
   "execution_count": 130,
   "metadata": {},
   "outputs": [],
   "source": [
    "columns = np.load('Data/columns.npy',allow_pickle=True)"
   ]
  },
  {
   "cell_type": "code",
   "execution_count": 131,
   "metadata": {},
   "outputs": [
    {
     "data": {
      "text/plain": [
       "array(['Credit_duration', 'Credit_amount', 'Age',\n",
       "       'Checking_account_status_0<=...<200 DM',\n",
       "       'Checking_account_status_<0 DM',\n",
       "       'Checking_account_status_>=200 DM',\n",
       "       'Checking_account_status_no account',\n",
       "       'Credit_history_all credits at this bank paid back',\n",
       "       'Credit_history_credits paid back till now',\n",
       "       'Credit_history_critical account/ other credits (not this bank)',\n",
       "       'Credit_history_delay in paying off in the past',\n",
       "       'Credit_history_no credits/ all paid back', 'Purpose_business',\n",
       "       'Purpose_domestic appliances', 'Purpose_education',\n",
       "       'Purpose_furniture/ equipment', 'Purpose_new car',\n",
       "       'Purpose_others', 'Purpose_radio/ television', 'Purpose_repairs',\n",
       "       'Purpose_retraining', 'Purpose_used car',\n",
       "       'Savings_100<=...<500 DM', 'Savings_500<=...<1000 DM',\n",
       "       'Savings_<100 DM', 'Savings_>=1000 DM',\n",
       "       'Savings_unknow/ no savings', 'Employment_duration_1<=...<4y',\n",
       "       'Employment_duration_4<=...<7y', 'Employment_duration_<1y',\n",
       "       'Employment_duration_>= 7y', 'Employment_duration_unemployed',\n",
       "       'Installment_rate_1', 'Installment_rate_2', 'Installment_rate_3',\n",
       "       'Installment_rate_4',\n",
       "       'Status_and_sex_female & divorced/ separated/ married',\n",
       "       'Status_and_sex_male & divorced/separated',\n",
       "       'Status_and_sex_male & married/ widowed',\n",
       "       'Status_and_sex_male & single',\n",
       "       'Other_debtors_guarantors_co-applicant',\n",
       "       'Other_debtors_guarantors_guarator',\n",
       "       'Other_debtors_guarantors_none', 'Residence_duration_1',\n",
       "       'Residence_duration_2', 'Residence_duration_3',\n",
       "       'Residence_duration_4',\n",
       "       'Property_building society/ life insurance',\n",
       "       'Property_car or other', 'Property_real estate',\n",
       "       'Property_unknown/ no property', 'Other_installment_plans_bank',\n",
       "       'Other_installment_plans_none', 'Other_installment_plans_stores',\n",
       "       'Housing_for free', 'Housing_own', 'Housing_rent',\n",
       "       'No_of_credits_1', 'No_of_credits_2', 'No_of_credits_3',\n",
       "       'No_of_credits_4', 'Job_management/ self-employed/ officer',\n",
       "       'Job_skilled employee', 'Job_unemployed/ unskilled non-resident',\n",
       "       'Job_unskilled resident', 'No_of_people_1', 'No_of_people_2',\n",
       "       'Telephone_none', 'Telephone_yes', 'Foreign_worker_no',\n",
       "       'Foreign_worker_yes'], dtype=object)"
      ]
     },
     "execution_count": 131,
     "metadata": {},
     "output_type": "execute_result"
    }
   ],
   "source": [
    "columns"
   ]
  },
  {
   "cell_type": "code",
   "execution_count": 132,
   "metadata": {},
   "outputs": [],
   "source": [
    "importance = algorithm.coef_[0]"
   ]
  },
  {
   "cell_type": "code",
   "execution_count": 133,
   "metadata": {},
   "outputs": [
    {
     "name": "stdout",
     "output_type": "stream",
     "text": [
      "Feature: Credit_duration Score: -0.28520\n",
      "Feature: Credit_amount Score: -0.30460\n",
      "Feature: Age Score: 0.21135\n",
      "Feature: Checking_account_status_0<=...<200 DM Score: -0.40118\n",
      "Feature: Checking_account_status_<0 DM Score: -0.94044\n",
      "Feature: Checking_account_status_>=200 DM Score: 0.13567\n",
      "Feature: Checking_account_status_no account Score: 1.20627\n",
      "Feature: Credit_history_all credits at this bank paid back Score: -0.52700\n",
      "Feature: Credit_history_credits paid back till now Score: -0.13419\n",
      "Feature: Credit_history_critical account/ other credits (not this bank) Score: 0.77835\n",
      "Feature: Credit_history_delay in paying off in the past Score: 0.34353\n",
      "Feature: Credit_history_no credits/ all paid back Score: -0.46038\n",
      "Feature: Purpose_business Score: -0.10404\n",
      "Feature: Purpose_domestic appliances Score: -0.11568\n",
      "Feature: Purpose_education Score: -0.88366\n",
      "Feature: Purpose_furniture/ equipment Score: 0.33055\n",
      "Feature: Purpose_new car Score: -0.81178\n",
      "Feature: Purpose_others Score: -0.18239\n",
      "Feature: Purpose_radio/ television Score: 0.40513\n",
      "Feature: Purpose_repairs Score: 0.17070\n",
      "Feature: Purpose_retraining Score: 0.56701\n",
      "Feature: Purpose_used car Score: 0.62448\n",
      "Feature: Savings_100<=...<500 DM Score: -0.19660\n",
      "Feature: Savings_500<=...<1000 DM Score: -0.34423\n",
      "Feature: Savings_<100 DM Score: -0.82543\n",
      "Feature: Savings_>=1000 DM Score: 0.97464\n",
      "Feature: Savings_unknow/ no savings Score: 0.39194\n",
      "Feature: Employment_duration_1<=...<4y Score: 0.02292\n",
      "Feature: Employment_duration_4<=...<7y Score: 0.43920\n",
      "Feature: Employment_duration_<1y Score: -0.25634\n",
      "Feature: Employment_duration_>= 7y Score: 0.05156\n",
      "Feature: Employment_duration_unemployed Score: -0.25703\n",
      "Feature: Installment_rate_1 Score: 0.45886\n",
      "Feature: Installment_rate_2 Score: 0.16479\n",
      "Feature: Installment_rate_3 Score: 0.01798\n",
      "Feature: Installment_rate_4 Score: -0.64131\n",
      "Feature: Status_and_sex_female & divorced/ separated/ married Score: -0.02988\n",
      "Feature: Status_and_sex_male & divorced/separated Score: -0.49178\n",
      "Feature: Status_and_sex_male & married/ widowed Score: 0.00267\n",
      "Feature: Status_and_sex_male & single Score: 0.51932\n",
      "Feature: Other_debtors_guarantors_co-applicant Score: -0.81948\n",
      "Feature: Other_debtors_guarantors_guarator Score: 0.86484\n",
      "Feature: Other_debtors_guarantors_none Score: -0.04504\n",
      "Feature: Residence_duration_1 Score: 0.42243\n",
      "Feature: Residence_duration_2 Score: -0.48368\n",
      "Feature: Residence_duration_3 Score: -0.15731\n",
      "Feature: Residence_duration_4 Score: 0.21888\n",
      "Feature: Property_building society/ life insurance Score: -0.26025\n",
      "Feature: Property_car or other Score: 0.25686\n",
      "Feature: Property_real estate Score: 0.42050\n",
      "Feature: Property_unknown/ no property Score: -0.41678\n",
      "Feature: Other_installment_plans_bank Score: -0.51291\n",
      "Feature: Other_installment_plans_none Score: 0.43862\n",
      "Feature: Other_installment_plans_stores Score: 0.07461\n",
      "Feature: Housing_for free Score: 0.12409\n",
      "Feature: Housing_own Score: 0.09852\n",
      "Feature: Housing_rent Score: -0.22229\n",
      "Feature: No_of_credits_1 Score: 0.07964\n",
      "Feature: No_of_credits_2 Score: -0.12452\n",
      "Feature: No_of_credits_3 Score: -0.21544\n",
      "Feature: No_of_credits_4 Score: 0.26065\n",
      "Feature: Job_management/ self-employed/ officer Score: 0.21768\n",
      "Feature: Job_skilled employee Score: -0.13104\n",
      "Feature: Job_unemployed/ unskilled non-resident Score: 0.03959\n",
      "Feature: Job_unskilled resident Score: -0.12592\n",
      "Feature: No_of_people_1 Score: 0.09433\n",
      "Feature: No_of_people_2 Score: -0.09401\n",
      "Feature: Telephone_none Score: -0.14734\n",
      "Feature: Telephone_yes Score: 0.14766\n",
      "Feature: Foreign_worker_no Score: 1.16439\n",
      "Feature: Foreign_worker_yes Score: -1.16408\n"
     ]
    }
   ],
   "source": [
    "for i, j in zip(importance, columns):\n",
    "    print ('Feature:', j, 'Score: %.5f' % (i))"
   ]
  },
  {
   "cell_type": "markdown",
   "metadata": {},
   "source": [
    "Coefficients for each of variable used in the model are presented above. The positive values indicate a feature that predict class 1 and negative values indicate a feature that predict class 0."
   ]
  },
  {
   "cell_type": "code",
   "execution_count": 134,
   "metadata": {},
   "outputs": [
    {
     "data": {
      "image/png": "[encoded data removed]",
      "text/plain": [
       "<Figure size 432x288 with 1 Axes>"
      ]
     },
     "metadata": {
      "needs_background": "light"
     },
     "output_type": "display_data"
    }
   ],
   "source": [
    "pyplot.bar([x for x in range(len(importance))], importance)\n",
    "pyplot.show()"
   ]
  },
  {
   "cell_type": "markdown",
   "metadata": {},
   "source": [
    "As the model has many features only the main significant for prediction of class 0 and class 1 will be verified."
   ]
  },
  {
   "cell_type": "code",
   "execution_count": 141,
   "metadata": {},
   "outputs": [
    {
     "name": "stdout",
     "output_type": "stream",
     "text": [
      "Feature: Checking_account_status_no account Score: 1.20627\n",
      "Feature: Credit_history_critical account/ other credits (not this bank) Score: 0.77835\n",
      "Feature: Purpose_retraining Score: 0.56701\n",
      "Feature: Purpose_used car Score: 0.62448\n",
      "Feature: Savings_>=1000 DM Score: 0.97464\n",
      "Feature: Status_and_sex_male & single Score: 0.51932\n",
      "Feature: Other_debtors_guarantors_guarator Score: 0.86484\n",
      "Feature: Foreign_worker_no Score: 1.16439\n"
     ]
    }
   ],
   "source": [
    "for i, j in zip(importance, columns):\n",
    "    if i >= 0.5:\n",
    "        print ('Feature:', j, 'Score: %.5f' % (i))"
   ]
  },
  {
   "cell_type": "markdown",
   "metadata": {},
   "source": [
    "According to the model we can notice that potential good customer (class 1):\n",
    "- is not foreign worker\n",
    "- has no account\n",
    "- has more than 1000 DM savings (equal to around 510 EUR)\n",
    "- has guarantor\n",
    "- has critical account or other credits (not at this bank)\n",
    "- has the purpose of credit: retraining or used car\n",
    "- is male and single"
   ]
  },
  {
   "cell_type": "code",
   "execution_count": 142,
   "metadata": {},
   "outputs": [
    {
     "name": "stdout",
     "output_type": "stream",
     "text": [
      "Feature: Checking_account_status_<0 DM Score: -0.94044\n",
      "Feature: Credit_history_all credits at this bank paid back Score: -0.52700\n",
      "Feature: Purpose_education Score: -0.88366\n",
      "Feature: Purpose_new car Score: -0.81178\n",
      "Feature: Savings_<100 DM Score: -0.82543\n",
      "Feature: Installment_rate_4 Score: -0.64131\n",
      "Feature: Other_debtors_guarantors_co-applicant Score: -0.81948\n",
      "Feature: Other_installment_plans_bank Score: -0.51291\n",
      "Feature: Foreign_worker_yes Score: -1.16408\n"
     ]
    }
   ],
   "source": [
    "for i, j in zip(importance, columns):\n",
    "    if i < -0.5:\n",
    "        print ('Feature:', j, 'Score: %.5f' % (i))"
   ]
  },
  {
   "cell_type": "markdown",
   "metadata": {},
   "source": [
    "According to the model we can notice that potential bad customer (class 0):\n",
    "- is foreign worker\n",
    "- has negative current account status\n",
    "- has the purpose of credit: education or new car\n",
    "- has less savigs than 100 DM (around 50 EUR)\n",
    "- has co-applicant for credit\n",
    "- has all credits at this bank paid back\n",
    "- his/ her installment rate is equal to 4% of disposable income (the highest percentage for this dataset)\n",
    "- has other installment plans in the bank\n",
    "\n",
    "\n",
    "It is worth to mention that one of the features **all credits at this bank paid back** seems to be very unintuitive for potential bad customers and some additional analysis could be carried out so as to verify why the model classified it in this way."
   ]
  },
  {
   "cell_type": "markdown",
   "metadata": {},
   "source": [
    "## 6. Summary"
   ]
  },
  {
   "cell_type": "markdown",
   "metadata": {},
   "source": [
    "To sum up, according to the analysis placed above the best models to distinguish good and bad customers on this dataset were **SVM implemented with undersampled majority class** and **Logistic regression with oversampled minority class (SMOTE)**. The models were evaluated based on Gini Coefficient that is common measure for credit risk models, however, the other scores such as Accuracy, Precision, Recalll, F1 and AUC were also verified. Some of the models had proximate scores therefore the next iteration of the algorithms could lead to another results.\n",
    "\n",
    "For **Logistic regression with oversampled minority class (SMOTE)** the following features were distinguished as the most significant: whether the customer is foreign worker, the current account status, the purpose of the credit, the amount of savings, credit history and other debtors/ guarantors (the details in section 5.3.3.).\n",
    "\n",
    "With the aim of improving algorithms some additional tunings and analysis could be made i.e. another alorithms verified, optimal threshold value estimated, more data gathered. It is also worth to mention that in real life not all of the credits are the same for the bank. The cost of not receiving back large mortgage is completely different than not receiving back low credit card debt. Also the types of customers that are applying for different kind of loans may be dissimilar. Therefore different algorithm could be applied to different types of credits so as to improve the predcition."
   ]
  }
 ],
 "metadata": {
  "kernelspec": {
   "display_name": "Python 3",
   "language": "python",
   "name": "python3"
  },
  "language_info": {
   "codemirror_mode": {
    "name": "ipython",
    "version": 3
   },
   "file_extension": ".py",
   "mimetype": "text/x-python",
   "name": "python",
   "nbconvert_exporter": "python",
   "pygments_lexer": "ipython3",
   "version": "3.7.4"
  }
 },
 "nbformat": 4,
 "nbformat_minor": 2
}
